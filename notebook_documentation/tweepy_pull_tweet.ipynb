{
 "cells": [
  {
   "cell_type": "markdown",
   "source": [
    "# Using `tweepy` to Pull Tweets from Twitter\n",
    "\n",
    "Author: Lu ZhiPing"
   ],
   "metadata": {
    "collapsed": false
   }
  },
  {
   "cell_type": "code",
   "execution_count": 1,
   "outputs": [
    {
     "data": {
      "text/plain": "(237045, 22)"
     },
     "execution_count": 1,
     "metadata": {},
     "output_type": "execute_result"
    }
   ],
   "source": [
    "from dotenv import load_dotenv\n",
    "import os\n",
    "import pandas as pd\n",
    "import tweepy\n",
    "load_dotenv()\n",
    "\n",
    "TOKEN = os.getenv(\"TWITTER_BEARE_TOKEN\")\n",
    "PYMONGO_USERNAME = os.getenv(\"PYMONGO_USERNAME\")\n",
    "PYMONGO_PASSWORD = os.getenv(\"PYMONGO_PASSWORD\")\n",
    "MONGO_URL = os.getenv(\"MONGO_URL\")\n",
    "\n",
    "tw_client = tweepy.Client(bearer_token=TOKEN)\n",
    "\n",
    "\n",
    "from pymongo import MongoClient\n",
    "mg_client = MongoClient(\n",
    "    MONGO_URL,\n",
    "    username=PYMONGO_USERNAME,\n",
    "    password=PYMONGO_PASSWORD\n",
    ")\n",
    "\n",
    "db = mg_client[\"PLP\"]\n",
    "collection = db[\"AStarCOVID\"]\n",
    "\n",
    "df = pd.read_csv(\"tweet_id_sg_sample.csv\")\n",
    "df.shape"
   ],
   "metadata": {
    "collapsed": false
   }
  },
  {
   "cell_type": "code",
   "execution_count": 2,
   "outputs": [
    {
     "name": "stdout",
     "output_type": "stream",
     "text": [
      "<class 'pandas.core.frame.DataFrame'>\n",
      "RangeIndex: 45833 entries, 0 to 45832\n",
      "Data columns (total 2 columns):\n",
      " #   Column    Non-Null Count  Dtype \n",
      "---  ------    --------------  ----- \n",
      " 0   tweet_ID  45833 non-null  int64 \n",
      " 1   Text      45833 non-null  object\n",
      "dtypes: int64(1), object(1)\n",
      "memory usage: 716.3+ KB\n"
     ]
    }
   ],
   "source": [
    "import glob\n",
    "path = os.getcwd()\n",
    "csv_files = glob.glob(os.path.join(path, \"batch_*.csv\"))\n",
    "\n",
    "dataframes = [pd.read_csv(file) for file in csv_files]\n",
    "ddf = pd.concat(dataframes, ignore_index=True, axis=0)\n",
    "ddf.info()"
   ],
   "metadata": {
    "collapsed": false
   }
  },
  {
   "cell_type": "code",
   "execution_count": 3,
   "outputs": [
    {
     "data": {
      "text/plain": "              tweet_ID                                               Text\n0  1224742687137419264  Coronavirus outbreak: Singapore to provide S$1...\n1  1224741485859557378  Coronavirus: Royal Caribbean warns of more cru...\n2  1224739548690694144  The Wuhan Coronavirus Poses Three Tests for Gl...\n3  1224738837198278656  @asadowaisi Pakistan is not rescuing their peo...\n4  1224738184614907904  The world will pay a growth price for the Wuha...",
      "text/html": "<div>\n<style scoped>\n    .dataframe tbody tr th:only-of-type {\n        vertical-align: middle;\n    }\n\n    .dataframe tbody tr th {\n        vertical-align: top;\n    }\n\n    .dataframe thead th {\n        text-align: right;\n    }\n</style>\n<table border=\"1\" class=\"dataframe\">\n  <thead>\n    <tr style=\"text-align: right;\">\n      <th></th>\n      <th>tweet_ID</th>\n      <th>Text</th>\n    </tr>\n  </thead>\n  <tbody>\n    <tr>\n      <th>0</th>\n      <td>1224742687137419264</td>\n      <td>Coronavirus outbreak: Singapore to provide S$1...</td>\n    </tr>\n    <tr>\n      <th>1</th>\n      <td>1224741485859557378</td>\n      <td>Coronavirus: Royal Caribbean warns of more cru...</td>\n    </tr>\n    <tr>\n      <th>2</th>\n      <td>1224739548690694144</td>\n      <td>The Wuhan Coronavirus Poses Three Tests for Gl...</td>\n    </tr>\n    <tr>\n      <th>3</th>\n      <td>1224738837198278656</td>\n      <td>@asadowaisi Pakistan is not rescuing their peo...</td>\n    </tr>\n    <tr>\n      <th>4</th>\n      <td>1224738184614907904</td>\n      <td>The world will pay a growth price for the Wuha...</td>\n    </tr>\n  </tbody>\n</table>\n</div>"
     },
     "execution_count": 3,
     "metadata": {},
     "output_type": "execute_result"
    }
   ],
   "source": [
    "ddf.head()"
   ],
   "metadata": {
    "collapsed": false
   }
  },
  {
   "cell_type": "code",
   "execution_count": 4,
   "outputs": [
    {
     "data": {
      "text/plain": "(191209, 22)"
     },
     "execution_count": 4,
     "metadata": {},
     "output_type": "execute_result"
    }
   ],
   "source": [
    "df = df[~df.tweet_ID.isin(ddf.tweet_ID)]\n",
    "df.shape"
   ],
   "metadata": {
    "collapsed": false
   }
  },
  {
   "cell_type": "code",
   "execution_count": 5,
   "outputs": [
    {
     "data": {
      "text/plain": "1913"
     },
     "execution_count": 5,
     "metadata": {},
     "output_type": "execute_result"
    }
   ],
   "source": [
    "def chunks(lst, n):\n",
    "    \"\"\"Yield successive n-sized chunks from lst.\"\"\"\n",
    "    for i in range(0, len(lst), n):\n",
    "        yield lst[i:i + n]\n",
    "\n",
    "process_list = list(chunks(df.tweet_ID.to_list(), 100))\n",
    "len(process_list)"
   ],
   "metadata": {
    "collapsed": false
   }
  },
  {
   "cell_type": "code",
   "execution_count": 6,
   "outputs": [
    {
     "data": {
      "text/plain": "100"
     },
     "execution_count": 6,
     "metadata": {},
     "output_type": "execute_result"
    }
   ],
   "source": [
    "len(process_list[0])"
   ],
   "metadata": {
    "collapsed": false
   }
  },
  {
   "cell_type": "code",
   "execution_count": 7,
   "outputs": [
    {
     "data": {
      "text/plain": "6.419463087248322"
     },
     "execution_count": 7,
     "metadata": {},
     "output_type": "execute_result"
    }
   ],
   "source": [
    "len(process_list) / 298"
   ],
   "metadata": {
    "collapsed": false
   }
  },
  {
   "cell_type": "code",
   "execution_count": 8,
   "outputs": [
    {
     "name": "stderr",
     "output_type": "stream",
     "text": [
      " 16%|█▌        | 298/1913 [02:28<16:08,  1.67it/s]"
     ]
    },
    {
     "name": "stdout",
     "output_type": "stream",
     "text": [
      "Now sleep for 15 minutes\n"
     ]
    },
    {
     "name": "stderr",
     "output_type": "stream",
     "text": [
      " 31%|███       | 596/1913 [20:23<12:53,  1.70it/s]     "
     ]
    },
    {
     "name": "stdout",
     "output_type": "stream",
     "text": [
      "Now sleep for 15 minutes\n"
     ]
    },
    {
     "name": "stderr",
     "output_type": "stream",
     "text": [
      " 47%|████▋     | 894/1913 [38:16<09:43,  1.75it/s]    "
     ]
    },
    {
     "name": "stdout",
     "output_type": "stream",
     "text": [
      "Now sleep for 15 minutes\n"
     ]
    },
    {
     "name": "stderr",
     "output_type": "stream",
     "text": [
      " 62%|██████▏   | 1192/1913 [56:01<06:29,  1.85it/s]   "
     ]
    },
    {
     "name": "stdout",
     "output_type": "stream",
     "text": [
      "Now sleep for 15 minutes\n"
     ]
    },
    {
     "name": "stderr",
     "output_type": "stream",
     "text": [
      " 78%|███████▊  | 1490/1913 [1:13:42<03:58,  1.77it/s]    "
     ]
    },
    {
     "name": "stdout",
     "output_type": "stream",
     "text": [
      "Now sleep for 15 minutes\n"
     ]
    },
    {
     "name": "stderr",
     "output_type": "stream",
     "text": [
      " 93%|█████████▎| 1788/1913 [1:31:17<01:03,  1.96it/s]    "
     ]
    },
    {
     "name": "stdout",
     "output_type": "stream",
     "text": [
      "Now sleep for 15 minutes\n"
     ]
    },
    {
     "name": "stderr",
     "output_type": "stream",
     "text": [
      "100%|██████████| 1913/1913 [1:47:21<00:00,  3.37s/it]   \n"
     ]
    }
   ],
   "source": [
    "from tqdm import tqdm\n",
    "from time import sleep\n",
    "tweets = []\n",
    "\n",
    "for idx, item in tqdm(enumerate(process_list), total=len(process_list)):\n",
    "    if idx == 0 or idx % 298 != 0:\n",
    "        responds = tw_client.get_tweets(ids=item)\n",
    "        if responds.data:\n",
    "            for doc in responds.data:\n",
    "                tweets.append([doc.id, doc.text])\n",
    "    elif idx % 298 == 0:\n",
    "        print(\"Now sleep for 15 minutes\")\n",
    "        sleep(900)"
   ],
   "metadata": {
    "collapsed": false
   }
  },
  {
   "cell_type": "code",
   "execution_count": 9,
   "outputs": [],
   "source": [
    "ddf_2 = pd.DataFrame(tweets, columns=[\"tweet_ID\", \"Text\"])"
   ],
   "metadata": {
    "collapsed": false
   }
  },
  {
   "cell_type": "code",
   "execution_count": 10,
   "outputs": [
    {
     "data": {
      "text/plain": "                   tweet_ID                                               Text\n0       1245550415581716481  HDB closes Bukit Merah branch office after sec...\n1       1245550321511718912  HDB closes Bukit Merah branch office after sec...\n2       1245550270190419969  Quarantine stress baking? 😆\\n\\nhttps://t.co/zH...\n3       1245550206457954305  Every vaccine and treatment in development for...\n4       1245548702233583618  this was the second read.. \\nhttps://t.co/wYID...\n...                     ...                                                ...\n158942  1345035968789635072  Happy new year everyone! Hopefully 2021 will b...\n158943  1345035677847724033  @andrew_lilico More of a distinction should be...\n158944  1345035499618988035  @SashaAlexandre2 @darakass We mostly survive c...\n158945  1345035072705990663  Ngee Ann City, Bedok Mall and several restaura...\n158946  1345035068599750657  No further COVID-19 transmission beyond 13 cas...\n\n[158947 rows x 2 columns]",
      "text/html": "<div>\n<style scoped>\n    .dataframe tbody tr th:only-of-type {\n        vertical-align: middle;\n    }\n\n    .dataframe tbody tr th {\n        vertical-align: top;\n    }\n\n    .dataframe thead th {\n        text-align: right;\n    }\n</style>\n<table border=\"1\" class=\"dataframe\">\n  <thead>\n    <tr style=\"text-align: right;\">\n      <th></th>\n      <th>tweet_ID</th>\n      <th>Text</th>\n    </tr>\n  </thead>\n  <tbody>\n    <tr>\n      <th>0</th>\n      <td>1245550415581716481</td>\n      <td>HDB closes Bukit Merah branch office after sec...</td>\n    </tr>\n    <tr>\n      <th>1</th>\n      <td>1245550321511718912</td>\n      <td>HDB closes Bukit Merah branch office after sec...</td>\n    </tr>\n    <tr>\n      <th>2</th>\n      <td>1245550270190419969</td>\n      <td>Quarantine stress baking? 😆\\n\\nhttps://t.co/zH...</td>\n    </tr>\n    <tr>\n      <th>3</th>\n      <td>1245550206457954305</td>\n      <td>Every vaccine and treatment in development for...</td>\n    </tr>\n    <tr>\n      <th>4</th>\n      <td>1245548702233583618</td>\n      <td>this was the second read.. \\nhttps://t.co/wYID...</td>\n    </tr>\n    <tr>\n      <th>...</th>\n      <td>...</td>\n      <td>...</td>\n    </tr>\n    <tr>\n      <th>158942</th>\n      <td>1345035968789635072</td>\n      <td>Happy new year everyone! Hopefully 2021 will b...</td>\n    </tr>\n    <tr>\n      <th>158943</th>\n      <td>1345035677847724033</td>\n      <td>@andrew_lilico More of a distinction should be...</td>\n    </tr>\n    <tr>\n      <th>158944</th>\n      <td>1345035499618988035</td>\n      <td>@SashaAlexandre2 @darakass We mostly survive c...</td>\n    </tr>\n    <tr>\n      <th>158945</th>\n      <td>1345035072705990663</td>\n      <td>Ngee Ann City, Bedok Mall and several restaura...</td>\n    </tr>\n    <tr>\n      <th>158946</th>\n      <td>1345035068599750657</td>\n      <td>No further COVID-19 transmission beyond 13 cas...</td>\n    </tr>\n  </tbody>\n</table>\n<p>158947 rows × 2 columns</p>\n</div>"
     },
     "execution_count": 10,
     "metadata": {},
     "output_type": "execute_result"
    }
   ],
   "source": [
    "ddf_2"
   ],
   "metadata": {
    "collapsed": false
   }
  },
  {
   "cell_type": "code",
   "execution_count": 11,
   "outputs": [
    {
     "data": {
      "text/plain": "(158947, 2)"
     },
     "execution_count": 11,
     "metadata": {},
     "output_type": "execute_result"
    }
   ],
   "source": [
    "ddf_2.shape"
   ],
   "metadata": {
    "collapsed": false
   }
  },
  {
   "cell_type": "code",
   "execution_count": 12,
   "outputs": [
    {
     "data": {
      "text/plain": "(45833, 2)"
     },
     "execution_count": 12,
     "metadata": {},
     "output_type": "execute_result"
    }
   ],
   "source": [
    "ddf.shape"
   ],
   "metadata": {
    "collapsed": false
   }
  },
  {
   "cell_type": "code",
   "execution_count": 13,
   "outputs": [],
   "source": [
    "# ddf_2.to_csv(\"batch_3.csv\", index=None)"
   ],
   "metadata": {
    "collapsed": false
   }
  },
  {
   "cell_type": "code",
   "execution_count": 14,
   "outputs": [
    {
     "name": "stdout",
     "output_type": "stream",
     "text": [
      "<class 'pandas.core.frame.DataFrame'>\n",
      "RangeIndex: 204780 entries, 0 to 204779\n",
      "Data columns (total 2 columns):\n",
      " #   Column    Non-Null Count   Dtype \n",
      "---  ------    --------------   ----- \n",
      " 0   tweet_ID  204780 non-null  int64 \n",
      " 1   Text      204780 non-null  object\n",
      "dtypes: int64(1), object(1)\n",
      "memory usage: 3.1+ MB\n"
     ]
    }
   ],
   "source": [
    "dataframe = pd.concat([ddf, ddf_2], ignore_index=True, axis=0)\n",
    "dataframe.info()"
   ],
   "metadata": {
    "collapsed": false
   }
  },
  {
   "cell_type": "code",
   "execution_count": 19,
   "outputs": [
    {
     "name": "stdout",
     "output_type": "stream",
     "text": [
      "<class 'pandas.core.frame.DataFrame'>\n",
      "Int64Index: 161390 entries, 0 to 161389\n",
      "Data columns (total 23 columns):\n",
      " #   Column              Non-Null Count   Dtype  \n",
      "---  ------              --------------   -----  \n",
      " 0   tweet_ID            161390 non-null  int64  \n",
      " 1   user_ID             161390 non-null  int64  \n",
      " 2   t1                  161390 non-null  int64  \n",
      " 3   t2                  161390 non-null  int64  \n",
      " 4   t3                  161390 non-null  int64  \n",
      " 5   t4                  161390 non-null  int64  \n",
      " 6   t5                  161390 non-null  int64  \n",
      " 7   t6                  161390 non-null  int64  \n",
      " 8   t7                  161390 non-null  int64  \n",
      " 9   t8                  161390 non-null  int64  \n",
      " 10  t9                  161390 non-null  int64  \n",
      " 11  t10                 161390 non-null  int64  \n",
      " 12  valence_intensity   161390 non-null  float64\n",
      " 13  anger_intensity     161390 non-null  float64\n",
      " 14  fear_intensity      161390 non-null  float64\n",
      " 15  sadness_intensity   161390 non-null  float64\n",
      " 16  joy_intensity       161390 non-null  float64\n",
      " 17  sentiment_category  161390 non-null  object \n",
      " 18  emotion_category    161390 non-null  object \n",
      " 19  keyword_used        161390 non-null  object \n",
      " 20  country_region      161390 non-null  object \n",
      " 21  date_stamp          161390 non-null  object \n",
      " 22  Text                161390 non-null  object \n",
      "dtypes: float64(5), int64(12), object(6)\n",
      "memory usage: 29.6+ MB\n"
     ]
    }
   ],
   "source": [
    "final = df.merge(dataframe, on=\"tweet_ID\")\n",
    "final.info()"
   ],
   "metadata": {
    "collapsed": false
   }
  },
  {
   "cell_type": "code",
   "execution_count": 20,
   "outputs": [
    {
     "name": "stderr",
     "output_type": "stream",
     "text": [
      "100%|██████████| 161390/161390 [19:19<00:00, 139.18it/s]\n"
     ]
    }
   ],
   "source": [
    "for _, row in tqdm(final.iterrows(), total=final.shape[0]):\n",
    "    document = dict()\n",
    "    for i in row.index:\n",
    "        document[i] = row[i]\n",
    "    # print(document)\n",
    "    collection.insert_one(document)"
   ],
   "metadata": {
    "collapsed": false
   }
  },
  {
   "cell_type": "code",
   "execution_count": 1,
   "outputs": [
    {
     "name": "stdout",
     "output_type": "stream",
     "text": [
      "NOTICE: sentiment log file will be at /Users/johnnylu/tweet_sentiment/sentiment/logs/sentiment.log\n"
     ]
    },
    {
     "data": {
      "text/plain": "161390"
     },
     "execution_count": 1,
     "metadata": {},
     "output_type": "execute_result"
    }
   ],
   "source": [
    "from sentiment.dataset.load_dataset import LoadDataset\n",
    "\n",
    "dataset = LoadDataset(\n",
    "    database_name=\"PLP\",\n",
    "    collection_name=\"AStarCOVID\",\n",
    "    n_rows=100\n",
    ")\n",
    "\n",
    "len(dataset)"
   ],
   "metadata": {
    "collapsed": false
   }
  },
  {
   "cell_type": "code",
   "execution_count": 2,
   "outputs": [
    {
     "name": "stderr",
     "output_type": "stream",
     "text": [
      "100%|██████████| 100/100 [00:00<00:00, 514.92it/s]\n"
     ]
    }
   ],
   "source": [
    "df = dataset.to_pandas()"
   ],
   "metadata": {
    "collapsed": false
   }
  },
  {
   "cell_type": "code",
   "execution_count": 3,
   "outputs": [
    {
     "data": {
      "text/plain": "                         _id             tweet_ID     user_ID  t1  t2  t3  t4  \\\n0   634637137380598a236355ae  1245550415581716481    37874853   1   0   0   0   \n1   634637137380598a236355af  1245550321511718912    44290654   1   0   0   0   \n2   634637137380598a236355b0  1245550270190419969   115624161   1   1   1   1   \n3   634637137380598a236355b1  1245550206457954305    20155794   1   0   0   0   \n4   634637137380598a236355b2  1245548702233583618    35202527   1   1   1   1   \n..                       ...                  ...         ...  ..  ..  ..  ..   \n95  634637147380598a2363560d  1245576204029054976    97911392   1   1   0   0   \n96  634637147380598a2363560e  1245575450606223360  3221009976   0   0   0   0   \n97  634637147380598a2363560f  1245575148511481856   226636502   1   0   0   0   \n98  634637147380598a23635610  1245574615809708038   442445678   1   1   1   1   \n99  634637147380598a23635611  1245574554858041352    17265997   1   0   0   1   \n\n    t5  t6  t7  ...  anger_intensity  fear_intensity  sadness_intensity  \\\n0    0   0   0  ...            0.440           0.490              0.437   \n1    0   0   0  ...            0.440           0.490              0.437   \n2    0   0   0  ...            0.476           0.512              0.446   \n3    0   0   0  ...            0.334           0.423              0.340   \n4    0   0   0  ...            0.346           0.348              0.425   \n..  ..  ..  ..  ...              ...             ...                ...   \n95   0   0   0  ...            0.516           0.414              0.406   \n96   0   0   0  ...            0.419           0.493              0.482   \n97   1   0   0  ...            0.429           0.470              0.403   \n98   1   1   1  ...            0.369           0.331              0.392   \n99   0   0   0  ...            0.297           0.300              0.325   \n\n    joy_intensity  sentiment_category     emotion_category  keyword_used  \\\n0           0.281             neutral  no specific emotion         covid   \n1           0.281             neutral  no specific emotion         covid   \n2           0.162            negative                 fear         covid   \n3           0.319             neutral  no specific emotion         covid   \n4           0.255            negative              sadness         covid   \n..            ...                 ...                  ...           ...   \n95          0.198            negative                anger         covid   \n96          0.278            negative                 fear         covid   \n97          0.228            negative                 fear         covid   \n98          0.189            negative              sadness         covid   \n99          0.446            positive                  joy         covid   \n\n    country_region           date_stamp  \\\n0        Singapore  2020-04-02 00:00:00   \n1        Singapore  2020-04-02 00:00:00   \n2        Singapore  2020-04-02 00:00:00   \n3        Singapore  2020-04-02 00:00:00   \n4        Singapore  2020-04-02 00:00:00   \n..             ...                  ...   \n95       Singapore  2020-04-02 00:00:00   \n96       Singapore  2020-04-02 00:00:00   \n97       Singapore  2020-04-02 00:00:00   \n98       Singapore  2020-04-02 00:00:00   \n99       Singapore  2020-04-02 00:00:00   \n\n                                                 Text  \n0   HDB closes Bukit Merah branch office after sec...  \n1   HDB closes Bukit Merah branch office after sec...  \n2   Quarantine stress baking? 😆\\n\\nhttps://t.co/zH...  \n3   Every vaccine and treatment in development for...  \n4   this was the second read.. \\nhttps://t.co/wYID...  \n..                                                ...  \n95  If you do not take your employees health and s...  \n96  Collective Action Required To Alleviate Stress...  \n97  COVID-19 - You should be spending a possible t...  \n98     please delete covid-19 https://t.co/Zar3segMC2  \n99  Like many, I have been following #COVID a lot....  \n\n[100 rows x 24 columns]",
      "text/html": "<div>\n<style scoped>\n    .dataframe tbody tr th:only-of-type {\n        vertical-align: middle;\n    }\n\n    .dataframe tbody tr th {\n        vertical-align: top;\n    }\n\n    .dataframe thead th {\n        text-align: right;\n    }\n</style>\n<table border=\"1\" class=\"dataframe\">\n  <thead>\n    <tr style=\"text-align: right;\">\n      <th></th>\n      <th>_id</th>\n      <th>tweet_ID</th>\n      <th>user_ID</th>\n      <th>t1</th>\n      <th>t2</th>\n      <th>t3</th>\n      <th>t4</th>\n      <th>t5</th>\n      <th>t6</th>\n      <th>t7</th>\n      <th>...</th>\n      <th>anger_intensity</th>\n      <th>fear_intensity</th>\n      <th>sadness_intensity</th>\n      <th>joy_intensity</th>\n      <th>sentiment_category</th>\n      <th>emotion_category</th>\n      <th>keyword_used</th>\n      <th>country_region</th>\n      <th>date_stamp</th>\n      <th>Text</th>\n    </tr>\n  </thead>\n  <tbody>\n    <tr>\n      <th>0</th>\n      <td>634637137380598a236355ae</td>\n      <td>1245550415581716481</td>\n      <td>37874853</td>\n      <td>1</td>\n      <td>0</td>\n      <td>0</td>\n      <td>0</td>\n      <td>0</td>\n      <td>0</td>\n      <td>0</td>\n      <td>...</td>\n      <td>0.440</td>\n      <td>0.490</td>\n      <td>0.437</td>\n      <td>0.281</td>\n      <td>neutral</td>\n      <td>no specific emotion</td>\n      <td>covid</td>\n      <td>Singapore</td>\n      <td>2020-04-02 00:00:00</td>\n      <td>HDB closes Bukit Merah branch office after sec...</td>\n    </tr>\n    <tr>\n      <th>1</th>\n      <td>634637137380598a236355af</td>\n      <td>1245550321511718912</td>\n      <td>44290654</td>\n      <td>1</td>\n      <td>0</td>\n      <td>0</td>\n      <td>0</td>\n      <td>0</td>\n      <td>0</td>\n      <td>0</td>\n      <td>...</td>\n      <td>0.440</td>\n      <td>0.490</td>\n      <td>0.437</td>\n      <td>0.281</td>\n      <td>neutral</td>\n      <td>no specific emotion</td>\n      <td>covid</td>\n      <td>Singapore</td>\n      <td>2020-04-02 00:00:00</td>\n      <td>HDB closes Bukit Merah branch office after sec...</td>\n    </tr>\n    <tr>\n      <th>2</th>\n      <td>634637137380598a236355b0</td>\n      <td>1245550270190419969</td>\n      <td>115624161</td>\n      <td>1</td>\n      <td>1</td>\n      <td>1</td>\n      <td>1</td>\n      <td>0</td>\n      <td>0</td>\n      <td>0</td>\n      <td>...</td>\n      <td>0.476</td>\n      <td>0.512</td>\n      <td>0.446</td>\n      <td>0.162</td>\n      <td>negative</td>\n      <td>fear</td>\n      <td>covid</td>\n      <td>Singapore</td>\n      <td>2020-04-02 00:00:00</td>\n      <td>Quarantine stress baking? 😆\\n\\nhttps://t.co/zH...</td>\n    </tr>\n    <tr>\n      <th>3</th>\n      <td>634637137380598a236355b1</td>\n      <td>1245550206457954305</td>\n      <td>20155794</td>\n      <td>1</td>\n      <td>0</td>\n      <td>0</td>\n      <td>0</td>\n      <td>0</td>\n      <td>0</td>\n      <td>0</td>\n      <td>...</td>\n      <td>0.334</td>\n      <td>0.423</td>\n      <td>0.340</td>\n      <td>0.319</td>\n      <td>neutral</td>\n      <td>no specific emotion</td>\n      <td>covid</td>\n      <td>Singapore</td>\n      <td>2020-04-02 00:00:00</td>\n      <td>Every vaccine and treatment in development for...</td>\n    </tr>\n    <tr>\n      <th>4</th>\n      <td>634637137380598a236355b2</td>\n      <td>1245548702233583618</td>\n      <td>35202527</td>\n      <td>1</td>\n      <td>1</td>\n      <td>1</td>\n      <td>1</td>\n      <td>0</td>\n      <td>0</td>\n      <td>0</td>\n      <td>...</td>\n      <td>0.346</td>\n      <td>0.348</td>\n      <td>0.425</td>\n      <td>0.255</td>\n      <td>negative</td>\n      <td>sadness</td>\n      <td>covid</td>\n      <td>Singapore</td>\n      <td>2020-04-02 00:00:00</td>\n      <td>this was the second read.. \\nhttps://t.co/wYID...</td>\n    </tr>\n    <tr>\n      <th>...</th>\n      <td>...</td>\n      <td>...</td>\n      <td>...</td>\n      <td>...</td>\n      <td>...</td>\n      <td>...</td>\n      <td>...</td>\n      <td>...</td>\n      <td>...</td>\n      <td>...</td>\n      <td>...</td>\n      <td>...</td>\n      <td>...</td>\n      <td>...</td>\n      <td>...</td>\n      <td>...</td>\n      <td>...</td>\n      <td>...</td>\n      <td>...</td>\n      <td>...</td>\n      <td>...</td>\n    </tr>\n    <tr>\n      <th>95</th>\n      <td>634637147380598a2363560d</td>\n      <td>1245576204029054976</td>\n      <td>97911392</td>\n      <td>1</td>\n      <td>1</td>\n      <td>0</td>\n      <td>0</td>\n      <td>0</td>\n      <td>0</td>\n      <td>0</td>\n      <td>...</td>\n      <td>0.516</td>\n      <td>0.414</td>\n      <td>0.406</td>\n      <td>0.198</td>\n      <td>negative</td>\n      <td>anger</td>\n      <td>covid</td>\n      <td>Singapore</td>\n      <td>2020-04-02 00:00:00</td>\n      <td>If you do not take your employees health and s...</td>\n    </tr>\n    <tr>\n      <th>96</th>\n      <td>634637147380598a2363560e</td>\n      <td>1245575450606223360</td>\n      <td>3221009976</td>\n      <td>0</td>\n      <td>0</td>\n      <td>0</td>\n      <td>0</td>\n      <td>0</td>\n      <td>0</td>\n      <td>0</td>\n      <td>...</td>\n      <td>0.419</td>\n      <td>0.493</td>\n      <td>0.482</td>\n      <td>0.278</td>\n      <td>negative</td>\n      <td>fear</td>\n      <td>covid</td>\n      <td>Singapore</td>\n      <td>2020-04-02 00:00:00</td>\n      <td>Collective Action Required To Alleviate Stress...</td>\n    </tr>\n    <tr>\n      <th>97</th>\n      <td>634637147380598a2363560f</td>\n      <td>1245575148511481856</td>\n      <td>226636502</td>\n      <td>1</td>\n      <td>0</td>\n      <td>0</td>\n      <td>0</td>\n      <td>1</td>\n      <td>0</td>\n      <td>0</td>\n      <td>...</td>\n      <td>0.429</td>\n      <td>0.470</td>\n      <td>0.403</td>\n      <td>0.228</td>\n      <td>negative</td>\n      <td>fear</td>\n      <td>covid</td>\n      <td>Singapore</td>\n      <td>2020-04-02 00:00:00</td>\n      <td>COVID-19 - You should be spending a possible t...</td>\n    </tr>\n    <tr>\n      <th>98</th>\n      <td>634637147380598a23635610</td>\n      <td>1245574615809708038</td>\n      <td>442445678</td>\n      <td>1</td>\n      <td>1</td>\n      <td>1</td>\n      <td>1</td>\n      <td>1</td>\n      <td>1</td>\n      <td>1</td>\n      <td>...</td>\n      <td>0.369</td>\n      <td>0.331</td>\n      <td>0.392</td>\n      <td>0.189</td>\n      <td>negative</td>\n      <td>sadness</td>\n      <td>covid</td>\n      <td>Singapore</td>\n      <td>2020-04-02 00:00:00</td>\n      <td>please delete covid-19 https://t.co/Zar3segMC2</td>\n    </tr>\n    <tr>\n      <th>99</th>\n      <td>634637147380598a23635611</td>\n      <td>1245574554858041352</td>\n      <td>17265997</td>\n      <td>1</td>\n      <td>0</td>\n      <td>0</td>\n      <td>1</td>\n      <td>0</td>\n      <td>0</td>\n      <td>0</td>\n      <td>...</td>\n      <td>0.297</td>\n      <td>0.300</td>\n      <td>0.325</td>\n      <td>0.446</td>\n      <td>positive</td>\n      <td>joy</td>\n      <td>covid</td>\n      <td>Singapore</td>\n      <td>2020-04-02 00:00:00</td>\n      <td>Like many, I have been following #COVID a lot....</td>\n    </tr>\n  </tbody>\n</table>\n<p>100 rows × 24 columns</p>\n</div>"
     },
     "execution_count": 3,
     "metadata": {},
     "output_type": "execute_result"
    }
   ],
   "source": [
    "df"
   ],
   "metadata": {
    "collapsed": false
   }
  },
  {
   "cell_type": "code",
   "execution_count": 5,
   "outputs": [
    {
     "data": {
      "text/plain": "100"
     },
     "execution_count": 5,
     "metadata": {},
     "output_type": "execute_result"
    }
   ],
   "source": [
    "sentiments = []\n",
    "\n",
    "for item in dataset:\n",
    "    sentiments.append(item[\"sentiment_category\"])\n",
    "len(sentiments)"
   ],
   "metadata": {
    "collapsed": false
   }
  },
  {
   "cell_type": "code",
   "execution_count": 6,
   "outputs": [
    {
     "data": {
      "text/plain": "['neutral',\n 'neutral',\n 'negative',\n 'neutral',\n 'negative',\n 'positive',\n 'positive',\n 'positive',\n 'negative',\n 'positive',\n 'negative',\n 'positive',\n 'positive',\n 'neutral',\n 'negative',\n 'negative',\n 'negative',\n 'negative',\n 'positive',\n 'negative',\n 'negative',\n 'positive',\n 'positive',\n 'neutral',\n 'positive',\n 'negative',\n 'neutral',\n 'neutral',\n 'very negative',\n 'positive',\n 'positive',\n 'negative',\n 'very negative',\n 'negative',\n 'negative',\n 'negative',\n 'negative',\n 'negative',\n 'negative',\n 'neutral',\n 'very negative',\n 'negative',\n 'positive',\n 'neutral',\n 'negative',\n 'negative',\n 'negative',\n 'neutral',\n 'negative',\n 'negative',\n 'positive',\n 'positive',\n 'negative',\n 'neutral',\n 'positive',\n 'positive',\n 'positive',\n 'positive',\n 'positive',\n 'positive',\n 'positive',\n 'positive',\n 'neutral',\n 'neutral',\n 'neutral',\n 'neutral',\n 'negative',\n 'negative',\n 'negative',\n 'negative',\n 'negative',\n 'positive',\n 'negative',\n 'positive',\n 'negative',\n 'negative',\n 'negative',\n 'positive',\n 'positive',\n 'negative',\n 'neutral',\n 'negative',\n 'very negative',\n 'negative',\n 'negative',\n 'negative',\n 'very negative',\n 'positive',\n 'positive',\n 'positive',\n 'positive',\n 'negative',\n 'negative',\n 'positive',\n 'positive',\n 'negative',\n 'negative',\n 'negative',\n 'negative',\n 'positive']"
     },
     "execution_count": 6,
     "metadata": {},
     "output_type": "execute_result"
    }
   ],
   "source": [
    "sentiments"
   ],
   "metadata": {
    "collapsed": false
   }
  },
  {
   "cell_type": "code",
   "execution_count": 7,
   "outputs": [
    {
     "data": {
      "text/plain": "Counter({'neutral': 16, 'negative': 45, 'positive': 34, 'very negative': 5})"
     },
     "execution_count": 7,
     "metadata": {},
     "output_type": "execute_result"
    }
   ],
   "source": [
    "from collections import Counter\n",
    "\n",
    "\n",
    "Counter(sentiments)"
   ],
   "metadata": {
    "collapsed": false
   }
  },
  {
   "cell_type": "code",
   "execution_count": 8,
   "outputs": [
    {
     "data": {
      "text/plain": "100"
     },
     "execution_count": 8,
     "metadata": {},
     "output_type": "execute_result"
    }
   ],
   "source": [
    "dataset.n_rows"
   ],
   "metadata": {
    "collapsed": false
   }
  },
  {
   "cell_type": "code",
   "execution_count": 9,
   "outputs": [],
   "source": [
    "dataset.n_rows = len(dataset)"
   ],
   "metadata": {
    "collapsed": false
   }
  },
  {
   "cell_type": "code",
   "execution_count": 10,
   "outputs": [
    {
     "data": {
      "text/plain": "161390"
     },
     "execution_count": 10,
     "metadata": {},
     "output_type": "execute_result"
    }
   ],
   "source": [
    "dataset.n_rows"
   ],
   "metadata": {
    "collapsed": false
   }
  },
  {
   "cell_type": "code",
   "execution_count": null,
   "outputs": [],
   "source": [],
   "metadata": {
    "collapsed": false
   }
  }
 ],
 "metadata": {
  "kernelspec": {
   "display_name": "Python 3",
   "language": "python",
   "name": "python3"
  },
  "language_info": {
   "codemirror_mode": {
    "name": "ipython",
    "version": 2
   },
   "file_extension": ".py",
   "mimetype": "text/x-python",
   "name": "python",
   "nbconvert_exporter": "python",
   "pygments_lexer": "ipython2",
   "version": "2.7.6"
  }
 },
 "nbformat": 4,
 "nbformat_minor": 0
}
