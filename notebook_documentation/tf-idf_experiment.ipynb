{
 "cells": [
  {
   "cell_type": "markdown",
   "source": [
    "# Experiment using TF-IDF approach\n",
    "\n",
    "Author: Lu ZhiPing"
   ],
   "metadata": {
    "collapsed": false
   }
  },
  {
   "cell_type": "code",
   "execution_count": 1,
   "outputs": [
    {
     "name": "stdout",
     "output_type": "stream",
     "text": [
      "NOTICE: sentiment log file will be at /Users/johnnylu/tweet_sentiment/sentiment/logs/sentiment.log\n"
     ]
    },
    {
     "name": "stderr",
     "output_type": "stream",
     "text": [
      "2022-10-13 11:22:25,063 : INFO : Initialized Mongo Connection to db:PLP, collection: AStarCOVID\n"
     ]
    }
   ],
   "source": [
    "from sentiment.dataset.load_dataset import LoadDataset\n",
    "from sklearn.feature_extraction.text import TfidfVectorizer\n",
    "from sklearn.model_selection import train_test_split\n",
    "from sklearn.metrics import precision_score\n",
    "from sklearn.metrics import recall_score\n",
    "from sklearn.metrics import confusion_matrix\n",
    "from sklearn.metrics import accuracy_score\n",
    "from sklearn.metrics import f1_score\n",
    "import numpy as np\n",
    "import lightgbm as lgb\n",
    "\n",
    "\n",
    "def get_matrix_vocab(dataset, column_name):\n",
    "    vectorizer = TfidfVectorizer(\n",
    "        max_features=2000\n",
    "    )\n",
    "\n",
    "    def yield_from_mongo(ds):\n",
    "        for item in ds:\n",
    "            yield item[column_name]\n",
    "    gen = yield_from_mongo(ds=dataset)\n",
    "    matrix = vectorizer.fit_transform(gen)\n",
    "    vocab = vectorizer.vocabulary_\n",
    "    return matrix, vocab\n",
    "\n",
    "dataset = LoadDataset(\n",
    "        database_name=\"PLP\",\n",
    "        collection_name=\"AStarCOVID\"\n",
    ")"
   ],
   "metadata": {
    "collapsed": false
   }
  },
  {
   "cell_type": "code",
   "execution_count": 2,
   "outputs": [
    {
     "data": {
      "text/plain": "\n        Database: Database(MongoClient(host=['192.168.50.72:27017'], document_class=dict, tz_aware=False, connect=True), 'PLP'),\n        Collection: Collection(Database(MongoClient(host=['192.168.50.72:27017'], document_class=dict, tz_aware=False, connect=True), 'PLP'), 'AStarCOVID')\n        Length : 161390\n        Sample: {'Text': 'HDB closes Bukit Merah branch office after second employee tests '\n         'positive for Covid-19 https://t.co/hhbICSfy5o',\n '_id': ObjectId('634637137380598a236355ae'),\n 'anger_intensity': 0.44,\n 'country_region': 'Singapore',\n 'date_stamp': '2020-04-02 00:00:00',\n 'emotion_category': 'no specific emotion',\n 'fear_intensity': 0.49,\n 'joy_intensity': 0.281,\n 'keyword_used': 'covid',\n 'sadness_intensity': 0.4370000000000001,\n 'sentiment_category': 'neutral',\n 't1': 1,\n 't10': 0,\n 't2': 0,\n 't3': 0,\n 't4': 0,\n 't5': 0,\n 't6': 0,\n 't7': 0,\n 't8': 0,\n 't9': 0,\n 'tweet_ID': 1245550415581716481,\n 'user_ID': 37874853,\n 'valence_intensity': 0.48}\n        "
     },
     "execution_count": 2,
     "metadata": {},
     "output_type": "execute_result"
    }
   ],
   "source": [
    "dataset"
   ],
   "metadata": {
    "collapsed": false
   }
  },
  {
   "cell_type": "code",
   "execution_count": 3,
   "outputs": [],
   "source": [
    "matrix, vocab = get_matrix_vocab(dataset, \"Text\")"
   ],
   "metadata": {
    "collapsed": false
   }
  },
  {
   "cell_type": "code",
   "execution_count": 5,
   "outputs": [
    {
     "data": {
      "text/plain": "(10000, 2000)"
     },
     "execution_count": 5,
     "metadata": {},
     "output_type": "execute_result"
    }
   ],
   "source": [
    "matrix.shape"
   ],
   "metadata": {
    "collapsed": false
   }
  },
  {
   "cell_type": "code",
   "execution_count": 9,
   "outputs": [
    {
     "name": "stdout",
     "output_type": "stream",
     "text": [
      "Counter({0: 4622, 2: 3162, 1: 1852, 3: 291, 4: 73})\n"
     ]
    }
   ],
   "source": [
    "from collections import Counter\n",
    "from sklearn.preprocessing import LabelEncoder\n",
    "le = LabelEncoder()\n",
    "\n",
    "labels = [item[\"sentiment_category\"] for item in dataset]\n",
    "labels = le.fit_transform(labels)\n",
    "print(Counter(labels))"
   ],
   "metadata": {
    "collapsed": false
   }
  },
  {
   "cell_type": "code",
   "execution_count": 17,
   "outputs": [
    {
     "name": "stderr",
     "output_type": "stream",
     "text": [
      "/Users/johnnylu/miniconda3/envs/tweet/lib/python3.8/site-packages/lightgbm/engine.py:156: UserWarning: Found `early_stopping_rounds` in params. Will use it instead of argument\n",
      "  warnings.warn(\"Found `{}` in params. Will use it instead of argument\".format(alias))\n"
     ]
    },
    {
     "name": "stdout",
     "output_type": "stream",
     "text": [
      "[LightGBM] [Warning] Auto-choosing col-wise multi-threading, the overhead of testing was 0.051307 seconds.\n",
      "You can set `force_col_wise=true` to remove the overhead.\n",
      "[LightGBM] [Info] Total Bins 32642\n",
      "[LightGBM] [Info] Number of data points in the train set: 8000, number of used features: 1124\n",
      "[LightGBM] [Info] Start training from score -0.782525\n",
      "[LightGBM] [Info] Start training from score -1.669984\n",
      "[LightGBM] [Info] Start training from score -1.148854\n",
      "[LightGBM] [Info] Start training from score -3.519137\n",
      "[LightGBM] [Info] Start training from score -4.844062\n",
      "Training until validation scores don't improve for 25 rounds\n",
      "Early stopping, best iteration is:\n",
      "[51]\tvalid_0's multi_logloss: 0.933149\n"
     ]
    }
   ],
   "source": [
    "X_train, X_test, y_train, y_test = train_test_split(\n",
    "        matrix, labels, test_size=0.2, random_state=42\n",
    ")\n",
    "\n",
    "lgbm_params = {\n",
    "    'task': 'train',\n",
    "    'boosting_type': 'gbdt',\n",
    "    'objective': 'multiclass',\n",
    "    'num_class': 5,\n",
    "    'metric': 'multi_logloss',\n",
    "    'num_iterations': 500,\n",
    "    \"early_stopping_rounds\": 25\n",
    "}\n",
    "lgb_train = lgb.Dataset(X_train, y_train)\n",
    "lgb_eval = lgb.Dataset(X_test, y_test, reference=lgb_train)\n",
    "gbm = lgb.train(\n",
    "    lgbm_params,\n",
    "    lgb_train,\n",
    "    valid_sets=lgb_eval,\n",
    "    verbose_eval=100\n",
    ")"
   ],
   "metadata": {
    "collapsed": false
   }
  },
  {
   "cell_type": "code",
   "execution_count": 24,
   "outputs": [],
   "source": [
    "y_pred = gbm.predict(X_test)\n",
    "y_pred = np.argmax(y_pred, axis=1)\n",
    "\n",
    "ACC = accuracy_score(y_test, y_pred)\n",
    "F1 = f1_score(y_test, y_pred, average=\"micro\")\n",
    "precision = precision_score(y_test, y_pred, average=\"micro\")\n",
    "recall = recall_score(y_test, y_pred, average=\"micro\")\n",
    "CN = confusion_matrix(y_test, y_pred)\n",
    "\n",
    "with open(\"experiment_result.txt\", \"w\") as file:\n",
    "    file.write(f\"Accuracy: {ACC}\\n\")\n",
    "    file.write(f\"F1: {F1}\\n\")\n",
    "    file.write(f\"Precision: {precision}\\n\")\n",
    "    file.write(f\"Recall: {recall}\\n\")\n",
    "    file.write(f\"Confusion Matrix: {CN}\")"
   ],
   "metadata": {
    "collapsed": false
   }
  },
  {
   "cell_type": "code",
   "execution_count": 21,
   "outputs": [
    {
     "data": {
      "text/plain": "array([0, 0, 3, ..., 0, 1, 2])"
     },
     "execution_count": 21,
     "metadata": {},
     "output_type": "execute_result"
    }
   ],
   "source": [
    "import numpy as np\n",
    "\n",
    "np.argmax(y_pred, axis=1)"
   ],
   "metadata": {
    "collapsed": false
   }
  },
  {
   "cell_type": "code",
   "execution_count": 29,
   "outputs": [
    {
     "name": "stderr",
     "output_type": "stream",
     "text": [
      "/Users/johnnylu/miniconda3/envs/tweet/lib/python3.8/site-packages/sklearn/metrics/_classification.py:1272: UndefinedMetricWarning: Precision and F-score are ill-defined and being set to 0.0 in labels with no predicted samples. Use `zero_division` parameter to control this behavior.\n",
      "  _warn_prf(average, modifier, msg_start, len(result))\n"
     ]
    },
    {
     "data": {
      "text/plain": "str"
     },
     "execution_count": 29,
     "metadata": {},
     "output_type": "execute_result"
    }
   ],
   "source": [
    "from sklearn.metrics import classification_report\n",
    "from pprint import pprint\n",
    "\n",
    "report = classification_report(y_test, y_pred)\n",
    "type(report)"
   ],
   "metadata": {
    "collapsed": false
   }
  },
  {
   "cell_type": "code",
   "execution_count": 30,
   "outputs": [
    {
     "name": "stdout",
     "output_type": "stream",
     "text": [
      "              precision    recall  f1-score   support\n",
      "\n",
      "           0       0.65      0.85      0.74       964\n",
      "           1       0.41      0.14      0.20       346\n",
      "           2       0.63      0.62      0.62       626\n",
      "           3       0.54      0.24      0.33        54\n",
      "           4       0.00      0.00      0.00        10\n",
      "\n",
      "    accuracy                           0.63      2000\n",
      "   macro avg       0.45      0.37      0.38      2000\n",
      "weighted avg       0.60      0.63      0.59      2000\n",
      "\n"
     ]
    }
   ],
   "source": [
    "print(report)"
   ],
   "metadata": {
    "collapsed": false
   }
  },
  {
   "cell_type": "code",
   "execution_count": 31,
   "outputs": [
    {
     "data": {
      "text/plain": "'              precision    recall  f1-score   support\\n\\n           0       0.65      0.85      0.74       964\\n           1       0.41      0.14      0.20       346\\n           2       0.63      0.62      0.62       626\\n           3       0.54      0.24      0.33        54\\n           4       0.00      0.00      0.00        10\\n\\n    accuracy                           0.63      2000\\n   macro avg       0.45      0.37      0.38      2000\\nweighted avg       0.60      0.63      0.59      2000\\n'"
     },
     "execution_count": 31,
     "metadata": {},
     "output_type": "execute_result"
    }
   ],
   "source": [
    "report"
   ],
   "metadata": {
    "collapsed": false
   }
  },
  {
   "cell_type": "code",
   "execution_count": 34,
   "outputs": [],
   "source": [
    "with open(\"experiment_result.txt\", \"w\") as file:\n",
    "    file.write(f\"Accuracy: {ACC}\\n\")\n",
    "    file.write(f\"F1: {F1}\\n\")\n",
    "    file.write(f\"Precision: {precision}\\n\")\n",
    "    file.write(f\"Recall: {recall}\\n\")\n",
    "    file.write(f\"Confusion Matrix: \\n{CN}\\n\")\n",
    "    file.write(f\"Classification Report: \\n{report}\")"
   ],
   "metadata": {
    "collapsed": false
   }
  },
  {
   "cell_type": "code",
   "execution_count": 35,
   "outputs": [
    {
     "data": {
      "text/plain": "{'hdb': 791,\n 'closes': 339,\n 'office': 1216,\n 'after': 88,\n 'second': 1524,\n 'employee': 563,\n 'tests': 1751,\n 'positive': 1333,\n 'for': 682,\n 'covid': 412,\n '19': 15,\n 'https': 848,\n 'co': 348,\n 'quarantine': 1389,\n 'stress': 1679,\n 'every': 596,\n 'vaccine': 1863,\n 'and': 129,\n 'treatment': 1817,\n 'in': 880,\n 'development': 477,\n 'so': 1602,\n 'far': 636,\n 'via': 1871,\n 'this': 1772,\n 'was': 1901,\n 'the': 1757,\n 'read': 1408,\n 'interesting': 913,\n 'sars': 1504,\n 'cov': 409,\n 'shares': 1557,\n 'whole': 1940,\n 'with': 1947,\n 'coronavirus': 394,\n 'from': 703,\n 'province': 1383,\n 'of': 1211,\n 'outbreak': 1254,\n '22': 24,\n '2020': 21,\n 'top': 1801,\n 'official': 1217,\n 'to': 1788,\n 'china': 320,\n 'health': 794,\n 'organization': 1245,\n 'use': 1858,\n 'wuhan': 1980,\n 'virus': 1880,\n 'used': 1859,\n 'love': 1055,\n 'corona': 393,\n 'chicken': 316,\n 'guy': 772,\n 'had': 774,\n 'he': 792,\n 'changed': 305,\n 'name': 1163,\n 'few': 650,\n 'years': 1985,\n 'ago': 94,\n 'who': 1939,\n 'update': 1849,\n 'april': 150,\n 'youtube': 1994,\n 'is': 920,\n 'now': 1203,\n 'fully': 711,\n 'online': 1230,\n 'all': 105,\n 'programs': 1370,\n 'employees': 564,\n 'successfully': 1692,\n 'into': 916,\n 'wfh': 1930,\n 'we': 1911,\n 'support': 1703,\n 'singapore': 1587,\n 'socialdistancing': 1604,\n 'other': 1248,\n 'measures': 1104,\n 'contain': 381,\n 'spread': 1635,\n 'stay': 1655,\n 'connected': 374,\n 'safe': 1498,\n 'infections': 896,\n 'growing': 765,\n 'deaths': 454,\n 'near': 1177,\n '50': 42,\n '000': 1,\n 'out': 1252,\n 'recovery': 1425,\n 'asia': 163,\n 'pacific': 1261,\n 'goes': 741,\n 'amp': 126,\n 'starting': 1646,\n 'week': 1919,\n 'sg': 1552,\n 'thank': 1754,\n 'you': 1990,\n 'making': 1067,\n 'possible': 1334,\n 'political': 1325,\n 'social': 1603,\n 'analysis': 128,\n 'on': 1225,\n 'covid19': 413,\n 'across': 66,\n 'world': 1966,\n 'by': 260,\n 'pmoindia': 1318,\n 'narendramodi': 1166,\n 'early': 535,\n 'sign': 1579,\n 'that': 1756,\n 'person': 1295,\n 'has': 785,\n 'loss': 1051,\n 'can': 268,\n 'be': 198,\n 'daily': 440,\n 'will': 1944,\n 'help': 802,\n 'cases': 280,\n 'people': 1290,\n 'infected': 894,\n 'not': 1198,\n 'even': 592,\n 'close': 337,\n 'america': 120,\n 'biggest': 220,\n 'problem': 1363,\n 'zero': 1997,\n 'india': 886,\n 'complete': 365,\n 'lockdown': 1039,\n 'an': 127,\n 'unprecedented': 1846,\n 'move': 1149,\n 'history': 820,\n 'country': 405,\n 'states': 1652,\n 'religion': 1439,\n 'as': 161,\n 'much': 1155,\n 'decision': 458,\n 'there': 1764,\n 'some': 1613,\n 'writes': 1977,\n 'taiwan': 1721,\n 'efforts': 552,\n 'are': 151,\n 'paying': 1285,\n 'off': 1212,\n 'fight': 651,\n 'against': 90,\n 'under': 1838,\n 'temporary': 1744,\n 'bill': 221,\n 'whose': 1941,\n 'business': 254,\n 'affected': 85,\n 'suspend': 1711,\n 'payments': 1287,\n 'six': 1594,\n 'months': 1143,\n 'whatsapp': 1933,\n 'groups': 763,\n 'think': 1769,\n 'game': 718,\n 'honestly': 828,\n 'how': 844,\n 'do': 501,\n 'my': 1160,\n 'about': 60,\n 'report': 1447,\n 'looks': 1049,\n 'brands': 240,\n 'safety': 1499,\n 'lots': 1054,\n 'free': 697,\n 'games': 719,\n 'during': 531,\n 'view': 1876,\n 'but': 257,\n 'year': 1984,\n 'started': 1645,\n 'record': 1421,\n 'us': 1856,\n '18': 14,\n 'billion': 222,\n 'before': 207,\n 'current': 431,\n 'situation': 1593,\n 'been': 205,\n 'going': 742,\n 'good': 746,\n 'despite': 472,\n 'why': 1942,\n 'grocery': 760,\n 'won': 1952,\n 'empty': 567,\n 'long': 1045,\n 'temporarily': 1743,\n 'days': 447,\n 'symptoms': 1716,\n 'appear': 145,\n 'study': 1688,\n 'shows': 1573,\n 'it': 927,\n 'just': 950,\n 'fever': 649,\n 'patients': 1283,\n 'showing': 1572,\n 'like': 1016,\n 'staff': 1640,\n 'hospitals': 836,\n 'also': 113,\n 'too': 1797,\n 'getting': 730,\n 'real': 1411,\n 'tough': 1804,\n 'these': 1765,\n 'thanks': 1755,\n 'thought': 1775,\n 'would': 1974,\n 'everyone': 598,\n 'at': 171,\n 'home': 826,\n 'if': 861,\n 'brought': 249,\n 'guys': 773,\n 'instead': 907,\n 'stayhome': 1657,\n 'say': 1509,\n 'what': 1931,\n 'want': 1895,\n 'wasn': 1904,\n 've': 1866,\n 'global': 737,\n 'way': 1909,\n 'things': 1768,\n 'were': 1926,\n 'feel': 644,\n 'released': 1436,\n 'air': 100,\n 'leaving': 998,\n 'they': 1766,\n 'science': 1517,\n 'lot': 1053,\n 'questions': 1392,\n 'class': 329,\n 'asked': 166,\n 'me': 1098,\n 'through': 1781,\n 'reading': 1409,\n 'your': 1992,\n 'kids': 958,\n 'media': 1105,\n 'which': 1937,\n 'more': 1144,\n 'than': 1753,\n 'go': 739,\n 'one': 1227,\n 'day': 446,\n 'soon': 1617,\n 'remain': 1441,\n 'here': 809,\n 'best': 215,\n 'prevent': 1354,\n 'illness': 863,\n 'avoid': 178,\n 'being': 212,\n 'exposed': 618,\n 'email': 557,\n 'recruit': 1426,\n 'intellect': 910,\n 'minds': 1124,\n 'com': 352,\n 'site': 1592,\n 'o1u05gp8lx': 1210,\n 'jobs': 942,\n 'jobagency': 941,\n 'recruitmentagency': 1428,\n 'wuhanvirus': 1981,\n 'covid2019': 416,\n 'covid_19': 417,\n 'message': 1114,\n 'community': 361,\n 'team': 1735,\n 'challenging': 300,\n 'times': 1786,\n 'company': 363,\n 'get': 728,\n 'together': 1791,\n 'per': 1291,\n 'fuck': 708,\n 'cant': 275,\n 'right': 1480,\n 'don': 509,\n 'time': 1784,\n 'research': 1454,\n 'international': 914,\n 'list': 1026,\n 'new': 1187,\n 'including': 881,\n 'published': 1385,\n 'pre': 1346,\n 'least': 996,\n 'stage': 1641,\n 'suggest': 1695,\n 'might': 1117,\n 'enough': 572,\n 'limit': 1018,\n 'their': 1758,\n 'contact': 380,\n 'control': 391,\n 'pandemic': 1268,\n 'law': 985,\n 'firms': 665,\n 'sure': 1706,\n 'have': 787,\n 'seen': 1533,\n 'news': 1188,\n 'restaurants': 1467,\n 'hit': 821,\n 'hand': 776,\n 'businesses': 255,\n 'still': 1666,\n 'open': 1232,\n 'hello': 801,\n 'pls': 1315,\n 'case': 279,\n 'already': 112,\n 'impact': 870,\n 'insurance': 909,\n 'role': 1486,\n 'technology': 1739,\n 'playing': 1313,\n 'pm': 1317,\n 'lee': 1000,\n 'warns': 1900,\n 'fake': 631,\n 'sent': 1539,\n 'him': 817,\n 'asking': 167,\n 'cna': 347,\n 'man': 1074,\n 'half': 775,\n 'his': 819,\n 'charity': 312,\n 'following': 679,\n 'shutdown': 1575,\n 'fighting': 652,\n 'hong': 831,\n 'kong': 968,\n 'ny': 1209,\n 'said': 1500,\n 'because': 202,\n 'containing': 382,\n 'malaysia': 1070,\n 'celebrate': 290,\n 'amid': 123,\n 'extended': 620,\n 'movement': 1151,\n 'students': 1686,\n 'college': 351,\n 'got': 748,\n 'over': 1257,\n 'march': 1082,\n 'school': 1515,\n 'messages': 1115,\n 'show': 1571,\n 'workers': 1959,\n 'working': 1962,\n 'keep': 953,\n 'running': 1492,\n 'moving': 1152,\n 'period': 1294,\n 'responding': 1462,\n 'economic': 543,\n 'impacts': 873,\n 'un': 1835,\n 'chief': 317,\n 'our': 1251,\n 'reuters': 1476,\n 'thoughts': 1776,\n 'today': 1789,\n 'work': 1956,\n 'steps': 1665,\n 'join': 944,\n 'rals9crrq7': 1399,\n 'hiringantz': 818,\n 'nowhiring': 1204,\n 'jail': 932,\n 'hotel': 838,\n 'floor': 673,\n 'may': 1095,\n 'future': 717,\n 'no': 1192,\n 'treat': 1815,\n 'shoot': 1563,\n 'such': 1693,\n 'life': 1013,\n 'doctors': 503,\n 'sees': 1534,\n 'house': 842,\n 'petition': 1298,\n 'government': 751,\n 'first': 666,\n 'says': 1511,\n 'then': 1761,\n 'later': 980,\n 'hospital': 835,\n 'die': 482,\n 'indonesian': 891,\n 'call': 262,\n 'indonesia': 890,\n 'issue': 924,\n 'money': 1141,\n 'adapt': 75,\n 'financialcrime': 660,\n 'risk': 1484,\n 'compliance': 367,\n 'culture': 428,\n 'land': 975,\n 'urges': 1855,\n 'let': 1008,\n 'app': 144,\n 'available': 176,\n 'around': 155,\n 'combat': 353,\n 'count': 402,\n 'death': 453,\n 'trump': 1823,\n 'above': 61,\n 'water': 1907,\n '1st': 16,\n 'doesn': 505,\n 'mean': 1100,\n 'yet': 1988,\n 're': 1405,\n 'election': 554,\n 'should': 1570,\n 'better': 216,\n 'always': 115,\n 'crisis': 425,\n 'mom': 1138,\n 'down': 518,\n 'companies': 362,\n 'its': 930,\n 'hr': 846,\n 'article': 158,\n 'tips': 1787,\n 'employers': 565,\n 'manage': 1075,\n 'season': 1523,\n 'sgunited': 1553,\n 'patient': 1282,\n 'north': 1197,\n 'saw': 1508,\n 'videos': 1874,\n 'makes': 1066,\n 'ai': 98,\n 'natural': 1171,\n 'learning': 995,\n 'deep': 462,\n 'them': 1759,\n 'dead': 448,\n 'president': 1352,\n 'several': 1550,\n 'malaysian': 1071,\n 'fears': 640,\n 'cancelled': 271,\n 'im': 864,\n 'gonna': 745,\n 'fucking': 709,\n 'away': 180,\n 'using': 1861,\n 'cloud': 343,\n 'screen': 1520,\n 'outside': 1256,\n 'infection': 895,\n 'food': 680,\n 'lockdowns': 1040,\n 'digital': 488,\n 'marketing': 1087,\n 'socialmedia': 1606,\n 'sales': 1501,\n 'doctor': 502,\n 'medical': 1106,\n 'testing': 1750,\n 'most': 1146,\n 'act': 67,\n 'could': 401,\n 'or': 1241,\n 'learn': 993,\n 'embrace': 558,\n 'ways': 1910,\n 'strong': 1682,\n 'leadership': 990,\n 'beyond': 218,\n 'really': 1414,\n '15': 11,\n 'million': 1121,\n 'click': 333,\n 'find': 661,\n 'up': 1848,\n 'epidemic': 578,\n 'tablighi': 1719,\n 'jamaat': 935,\n 'group': 762,\n 'identified': 859,\n 'clusters': 346,\n 'tracing': 1806,\n 'primary': 1357,\n 'student': 1685,\n 'based': 190,\n 'take': 1722,\n 'important': 876,\n 'climate': 335,\n 'must': 1158,\n 'piece': 1302,\n 'shit': 1562,\n 'action': 68,\n 'required': 1452,\n 'spending': 1630,\n 'inside': 904,\n 'try': 1825,\n 'large': 976,\n 'gatherings': 722,\n 'video': 1873,\n 'calls': 265,\n 'hands': 778,\n 'anyone': 142,\n 'sharing': 1558,\n 'etc': 588,\n 'please': 1314,\n 'many': 1080,\n 'while': 1938,\n 'live': 1030,\n 'pay': 1284,\n 'provides': 1381,\n 'easy': 539,\n 'understand': 1839,\n 'info': 898,\n 'dr': 522,\n 'helps': 806,\n 'london': 1044,\n 'announce': 131,\n 'relief': 1438,\n 'offering': 1214,\n 'software': 1608,\n 'education': 547,\n 'details': 473,\n 'forbes': 683,\n 'change': 304,\n 'policy': 1324,\n 'age': 91,\n 'filmed': 656,\n 'two': 1833,\n 'her': 808,\n 'she': 1559,\n 'lives': 1031,\n 'diagnosed': 478,\n 'party': 1278,\n '52': 44,\n 'old': 1223,\n 'jailed': 933,\n 'when': 1934,\n 'return': 1473,\n 'normal': 1196,\n 'post': 1335,\n 'restrictions': 1468,\n 'living': 1032,\n 'took': 1798,\n 'truly': 1822,\n 'back': 182,\n 'worse': 1971,\n 'gets': 729,\n 'next': 1189,\n 'executive': 608,\n 'chairman': 297,\n 'leading': 991,\n 'private': 1361,\n 'healthcare': 795,\n 'insights': 905,\n 'dealing': 451,\n '14': 9,\n '20': 17,\n 'mar': 1081,\n 'reported': 1448,\n '30': 31,\n 'confirmed': 373,\n '31': 33,\n 'gone': 744,\n 'only': 1231,\n 'perhaps': 1293,\n 'side': 1578,\n 'woman': 1950,\n 'among': 125,\n 'those': 1773,\n 'ah': 96,\n 'flights': 672,\n 'due': 530,\n 'very': 1870,\n 'simple': 1584,\n 'super': 1698,\n 'quick': 1393,\n 'see': 1528,\n 'board': 232,\n 'did': 479,\n 'isn': 921,\n 'europe': 590,\n 'advice': 81,\n 'tackle': 1720,\n 'covidー19': 418,\n 'countries': 404,\n 'distancing': 499,\n 'massive': 1092,\n 'develop': 474,\n 'quickly': 1394,\n 'phone': 1300,\n 'data': 444,\n 'save': 1506,\n 'local': 1035,\n 'small': 1599,\n 'mass': 1091,\n 'ventilators': 1867,\n 'film': 655,\n 'created': 420,\n 'opening': 1233,\n 'short': 1568,\n 'make': 1065,\n 'sorry': 1618,\n 'any': 141,\n 'full': 710,\n 'airlines': 101,\n 'behind': 211,\n 'closure': 341,\n 'rate': 1402,\n 'watching': 1906,\n 'west': 1927,\n 'stuff': 1689,\n 'japan': 938,\n 'minister': 1125,\n 'todayonline': 1790,\n 'continue': 385,\n 'until': 1847,\n 'found': 693,\n 'locally': 1036,\n '10': 2,\n 'likely': 1017,\n 'suspends': 1713,\n 'orders': 1243,\n 'surge': 1707,\n 'demand': 470,\n 'concerns': 369,\n 'ever': 595,\n 'wellbeing': 1924,\n 'customers': 435,\n 'partners': 1276,\n 'died': 483,\n 'stop': 1669,\n 'wonder': 1953,\n 'police': 1322,\n 'state': 1650,\n 'damage': 441,\n 'covered': 411,\n 'hour': 840,\n 'closed': 338,\n '2nd': 30,\n 'three': 1780,\n 'worst': 1972,\n 'twitter': 1832,\n 'start': 1644,\n 'lost': 1052,\n 'payment': 1286,\n 'healthy': 796,\n 'staysafe': 1661,\n 'fairprice': 630,\n 'supermarket': 1699,\n 'supplies': 1701,\n 'paper': 1271,\n 'socially': 1605,\n 'responsible': 1465,\n 'become': 203,\n 'result': 1469,\n 'channel': 309,\n 'heart': 799,\n 'giving': 735,\n 'marketers': 1086,\n 'extra': 621,\n 'level': 1010,\n 'stayathome': 1656,\n 'passed': 1280,\n 'less': 1005,\n 'worry': 1970,\n 'friends': 702,\n 'parents': 1272,\n 'last': 978,\n 'same': 1502,\n 'delhi': 467,\n 'theprint': 1763,\n 'reports': 1450,\n 'mostly': 1147,\n 'music': 1157,\n 'content': 383,\n 'saying': 1510,\n 'wet': 1929,\n 'markets': 1088,\n 'didn': 481,\n 'lock': 1038,\n 'city': 327,\n 'apply': 147,\n 'travel': 1814,\n 'busy': 256,\n 'anti': 138,\n 'notice': 1201,\n 'january': 937,\n 'meanwhile': 1102,\n 'germany': 727,\n 'south': 1622,\n 'korea': 969,\n 'reporting': 1449,\n 'low': 1057,\n 'rates': 1403,\n 'united': 1841,\n 'front': 704,\n 'lines': 1021,\n 'contracting': 389,\n 'four': 694,\n 'men': 1112,\n 'sa': 1495,\n 'coronaviruspandemic': 396,\n 'coronavirusoutbreak': 395,\n 'bring': 245,\n 'resources': 1459,\n 'access': 63,\n 'follow': 678,\n 'link': 1022,\n 'reached': 1407,\n 'well': 1923,\n 'done': 511,\n 'teams': 1736,\n 'reach': 1406,\n 'prepare': 1348,\n 'deal': 450,\n 'blame': 227,\n 'public': 1384,\n 'lack': 973,\n 'figures': 653,\n 'focus': 676,\n 'need': 1180,\n 'reduce': 1430,\n 'spreading': 1636,\n 'another': 135,\n 'perspective': 1297,\n 'masks': 1090,\n 'extend': 619,\n 'declared': 459,\n '21': 23,\n 'novel': 1202,\n 'meeting': 1109,\n 'held': 800,\n 'wednesday': 1918,\n 'linkedin': 1024,\n 'offers': 1215,\n 'job': 940,\n 'essential': 584,\n 'services': 1547,\n 'strategy': 1677,\n 'higher': 815,\n 'key': 957,\n 'trends': 1818,\n 'note': 1199,\n 'wide': 1943,\n 'implemented': 874,\n 'ones': 1228,\n 'till': 1783,\n 'yesterday': 1987,\n 'separate': 1541,\n 'completely': 366,\n 'smes': 1601,\n 'cuts': 437,\n 'sia': 1576,\n 'management': 1076,\n 'australia': 173,\n 'test': 1748,\n 'crew': 424,\n 'members': 1111,\n '76': 53,\n 'within': 1948,\n 'end': 568,\n 'immediately': 867,\n 'gt': 767,\n 'putting': 1387,\n 'numbers': 1207,\n 'look': 1047,\n 'put': 1386,\n 'asian': 164,\n 'production': 1365,\n 'shops': 1567,\n 'again': 89,\n 'made': 1060,\n 'helping': 805,\n 'initiatives': 902,\n 'estate': 586,\n 'agencies': 92,\n 'property': 1373,\n 'latest': 981,\n 'apr': 149,\n 'discharged': 492,\n '25': 27,\n 'known': 966,\n 'links': 1025,\n 'cluster': 345,\n '11': 5,\n 'sector': 1525,\n 'five': 668,\n 'society': 1607,\n 'realdonaldtrump': 1412,\n 'wanted': 1896,\n 'great': 758,\n 'worldwide': 1968,\n 'chart': 313,\n 'league': 992,\n 'wear': 1912,\n 'mask': 1089,\n 'guess': 769,\n 'ends': 569,\n 'meet': 1108,\n 'senior': 1537,\n 'economy': 545,\n 'human': 851,\n 'strategies': 1676,\n 'responses': 1464,\n 'plans': 1308,\n 'ensure': 573,\n 'pass': 1279,\n 'tax': 1732,\n 'fine': 663,\n 'telecommuting': 1740,\n 'arrangements': 156,\n 'where': 1935,\n 'sick': 1577,\n 'worth': 1973,\n 'funds': 715,\n 'towards': 1805,\n 'else': 556,\n 'happen': 779,\n 'malay': 1069,\n 'mail': 1061,\n 'related': 1434,\n 'weeks': 1922,\n 'believe': 213,\n 'takes': 1725,\n 'face': 623,\n 'hope': 832,\n 'taking': 1726,\n 'success': 1691,\n 'webinar': 1915,\n 'disruption': 497,\n 'uk': 1834,\n 'commentary': 357,\n 'feels': 646,\n 'come': 354,\n 'epicenter': 577,\n 'ahead': 97,\n 'explain': 616,\n 'spreads': 1637,\n 'everything': 599,\n 'register': 1433,\n 'effort': 551,\n 'curb': 429,\n 'announced': 132,\n 'security': 1527,\n 'effective': 549,\n 'returning': 1474,\n 'malaysians': 1072,\n 'quarantined': 1390,\n 'boy': 239,\n 'taken': 1724,\n 'alone': 110,\n 'race': 1396,\n 'build': 251,\n 'building': 252,\n 'communities': 360,\n 'isolation': 923,\n 'family': 635,\n 'response': 1463,\n 'philippines': 1299,\n 'tested': 1749,\n 'practice': 1342,\n 'hygiene': 855,\n 'overcome': 1258,\n 'check': 314,\n 'guide': 771,\n 'continuity': 387,\n 'planning': 1307,\n 'especially': 583,\n 'press': 1353,\n 'release': 1435,\n 'leave': 997,\n 'charged': 311,\n 'system': 1717,\n 'respond': 1461,\n 'leaders': 989,\n 'remote': 1444,\n 'govt': 753,\n 'tuesday': 1827,\n 'term': 1746,\n 'significant': 1580,\n 'allowed': 108,\n 'nice': 1190,\n 'happened': 780,\n 'beautiful': 200,\n 'keeping': 954,\n 'plan': 1306,\n 'single': 1590,\n 'event': 593,\n 'chain': 296,\n 'costs': 400,\n 'recovered': 1423,\n 'fm': 675,\n 'high': 814,\n 'bauxite': 194,\n 'price': 1356,\n 'alcircle': 103,\n 'number': 1206,\n 'compared': 364,\n 'immune': 868,\n 'western': 1928,\n 'gathering': 721,\n 'clear': 331,\n 'modi': 1136,\n 'dying': 532,\n 'mark': 1084,\n 'share': 1555,\n 'survey': 1708,\n '200': 18,\n 'finance': 658,\n 'agree': 95,\n 'late': 979,\n 'urgent': 1854,\n 'parliament': 1273,\n 'non': 1194,\n 'budget': 250,\n 'naval': 1172,\n 'provide': 1379,\n 'clients': 334,\n 'expert': 614,\n 'address': 77,\n 'cash': 281,\n 'issues': 926,\n 'experts': 615,\n 'approach': 148,\n 'managing': 1077,\n 'yeah': 1983,\n 'own': 1259,\n 'website': 1916,\n 'am': 116,\n 'everyday': 597,\n 'thing': 1767,\n 'looking': 1048,\n 'pore': 1330,\n 'banks': 187,\n 'fallout': 633,\n 'streaming': 1678,\n 'self': 1535,\n 'set': 1549,\n 'challenges': 299,\n 'gold': 743,\n 'market': 1085,\n 'different': 486,\n 'led': 999,\n 'means': 1101,\n 'innovation': 903,\n 'existing': 610,\n 'providing': 1382,\n 'network': 1185,\n 'impacted': 871,\n 'assistance': 169,\n 'care': 278,\n 'turn': 1828,\n 'threat': 1779,\n 'navigating': 1174,\n 'reality': 1413,\n 'cause': 284,\n 'according': 64,\n 'singaporean': 1588,\n 'weekend': 1920,\n 'malls': 1073,\n 'buy': 258,\n 'platforms': 1310,\n 'seems': 1532,\n ...}"
     },
     "execution_count": 35,
     "metadata": {},
     "output_type": "execute_result"
    }
   ],
   "source": [
    "vocab"
   ],
   "metadata": {
    "collapsed": false
   }
  },
  {
   "cell_type": "code",
   "execution_count": 37,
   "outputs": [
    {
     "data": {
      "text/plain": "dict"
     },
     "execution_count": 37,
     "metadata": {},
     "output_type": "execute_result"
    }
   ],
   "source": [
    "type(vocab)"
   ],
   "metadata": {
    "collapsed": false
   }
  },
  {
   "cell_type": "code",
   "execution_count": 39,
   "outputs": [
    {
     "data": {
      "text/plain": "numpy.int64"
     },
     "execution_count": 39,
     "metadata": {},
     "output_type": "execute_result"
    }
   ],
   "source": [
    "type(vocab[\"platforms\"])"
   ],
   "metadata": {
    "collapsed": false
   }
  },
  {
   "cell_type": "code",
   "execution_count": 40,
   "outputs": [],
   "source": [
    "class NpEncoder(json.JSONEncoder):\n",
    "    def default(self, obj):\n",
    "        if isinstance(obj, np.integer):\n",
    "            return int(obj)\n",
    "        if isinstance(obj, np.floating):\n",
    "            return float(obj)\n",
    "        if isinstance(obj, np.ndarray):\n",
    "            return obj.tolist()\n",
    "        return super(NpEncoder, self).default(obj)\n",
    "\n",
    "with open(\"vocabulary.json\", \"w\") as file:\n",
    "    json.dump(vocab, file, cls=NpEncoder)"
   ],
   "metadata": {
    "collapsed": false
   }
  },
  {
   "cell_type": "code",
   "execution_count": null,
   "outputs": [],
   "source": [],
   "metadata": {
    "collapsed": false
   }
  }
 ],
 "metadata": {
  "kernelspec": {
   "display_name": "Python 3",
   "language": "python",
   "name": "python3"
  },
  "language_info": {
   "codemirror_mode": {
    "name": "ipython",
    "version": 2
   },
   "file_extension": ".py",
   "mimetype": "text/x-python",
   "name": "python",
   "nbconvert_exporter": "python",
   "pygments_lexer": "ipython2",
   "version": "2.7.6"
  }
 },
 "nbformat": 4,
 "nbformat_minor": 0
}
