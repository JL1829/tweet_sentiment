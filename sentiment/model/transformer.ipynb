{
 "cells": [
  {
   "cell_type": "markdown",
   "source": [
    "# Transformer Model Experiment"
   ],
   "metadata": {
    "collapsed": false
   }
  },
  {
   "cell_type": "code",
   "execution_count": 1,
   "outputs": [
    {
     "name": "stdout",
     "output_type": "stream",
     "text": [
      "NOTICE: sentiment log file will be at /Users/johnnylu/tweet_sentiment/sentiment/logs/sentiment.log\n"
     ]
    },
    {
     "name": "stderr",
     "output_type": "stream",
     "text": [
      "[nltk_data] Downloading package wordnet to\n",
      "[nltk_data]     /Users/johnnylu/nltk_data...\n",
      "[nltk_data]   Package wordnet is already up-to-date!\n",
      "[nltk_data] Downloading package stopwords to\n",
      "[nltk_data]     /Users/johnnylu/nltk_data...\n",
      "[nltk_data]   Package stopwords is already up-to-date!\n",
      "[nltk_data] Downloading package punkt to /Users/johnnylu/nltk_data...\n",
      "[nltk_data]   Package punkt is already up-to-date!\n",
      "2022-10-18 10:01:03,270 : INFO : Initialized Mongo Connection to db:PLP, collection: AStarCOVID\n"
     ]
    },
    {
     "data": {
      "text/plain": "\n        Database: Database(MongoClient(host=['johdev.asuscomm.com:9981'], document_class=dict, tz_aware=False, connect=True), 'PLP'),\n        Collection: Collection(Database(MongoClient(host=['johdev.asuscomm.com:9981'], document_class=dict, tz_aware=False, connect=True), 'PLP'), 'AStarCOVID')\n        Length : 161390\n        Sample: {'Text': 'After 2,964 corona positive cases and 60 casualties in a day, the '\n         'PTI govt decides to ease the lockdown. Clearly, the govt has no plan '\n         '&amp; supposeldy expects ppl to develop “herd immunity.” So, for the '\n         'love of God, exercise social distancing and stay safe.\\n'\n         '\\n'\n         'https://t.co/kd9LjqWF1C',\n '_id': ObjectId('634638b37380598a236433a2'),\n 'anger_intensity': 0.498,\n 'country_region': 'Singapore',\n 'date_stamp': '2020-06-02 00:00:00',\n 'emotion_category': 'anger',\n 'fear_intensity': 0.472,\n 'joy_intensity': 0.266,\n 'keyword_used': 'covid',\n 'sadness_intensity': 0.43,\n 'sentiment_category': 'negative',\n 't1': 0,\n 't10': 0,\n 't2': 0,\n 't3': 1,\n 't4': 0,\n 't5': 0,\n 't6': 0,\n 't7': 0,\n 't8': 0,\n 't9': 0,\n 'tweet_ID': 1267523606818353152,\n 'user_ID': 398622914,\n 'valence_intensity': 0.449}\n        "
     },
     "execution_count": 1,
     "metadata": {},
     "output_type": "execute_result"
    }
   ],
   "source": [
    "from sentiment.dataset.load_dataset import LoadDataset\n",
    "from sentiment.dataset.tokenizer import SimpleTokenizer\n",
    "from datasets import load_dataset\n",
    "from transformers import AutoTokenizer\n",
    "from transformers import AutoModelForSequenceClassification\n",
    "\n",
    "simple_tokenizer = SimpleTokenizer()\n",
    "\n",
    "dataset = LoadDataset(\n",
    "        database_name=\"PLP\",\n",
    "        collection_name=\"AStarCOVID\",\n",
    "        n_rows=\"max\",\n",
    "        tokenizer=simple_tokenizer,\n",
    "        column_name=\"Text\"\n",
    ")\n",
    "dataset"
   ],
   "metadata": {
    "collapsed": false
   }
  },
  {
   "cell_type": "code",
   "execution_count": 2,
   "outputs": [
    {
     "name": "stderr",
     "output_type": "stream",
     "text": [
      "2022-10-18 10:14:05,723 : INFO : Returning Pandas DataFrame with maximum row: 161390\n",
      "100%|██████████| 161390/161390 [01:11<00:00, 2249.01it/s]\n"
     ]
    }
   ],
   "source": [
    "df = dataset.to_pandas()"
   ],
   "metadata": {
    "collapsed": false
   }
  },
  {
   "cell_type": "code",
   "execution_count": 3,
   "outputs": [
    {
     "name": "stdout",
     "output_type": "stream",
     "text": [
      "<class 'pandas.core.frame.DataFrame'>\n",
      "RangeIndex: 161390 entries, 0 to 161389\n",
      "Data columns (total 25 columns):\n",
      " #   Column              Non-Null Count   Dtype  \n",
      "---  ------              --------------   -----  \n",
      " 0   _id                 161390 non-null  object \n",
      " 1   tweet_ID            161390 non-null  int64  \n",
      " 2   user_ID             161390 non-null  int64  \n",
      " 3   t1                  161390 non-null  int64  \n",
      " 4   t2                  161390 non-null  int64  \n",
      " 5   t3                  161390 non-null  int64  \n",
      " 6   t4                  161390 non-null  int64  \n",
      " 7   t5                  161390 non-null  int64  \n",
      " 8   t6                  161390 non-null  int64  \n",
      " 9   t7                  161390 non-null  int64  \n",
      " 10  t8                  161390 non-null  int64  \n",
      " 11  t9                  161390 non-null  int64  \n",
      " 12  t10                 161390 non-null  int64  \n",
      " 13  valence_intensity   161390 non-null  float64\n",
      " 14  anger_intensity     161390 non-null  float64\n",
      " 15  fear_intensity      161390 non-null  float64\n",
      " 16  sadness_intensity   161390 non-null  float64\n",
      " 17  joy_intensity       161390 non-null  float64\n",
      " 18  sentiment_category  161390 non-null  object \n",
      " 19  emotion_category    161390 non-null  object \n",
      " 20  keyword_used        161390 non-null  object \n",
      " 21  country_region      161390 non-null  object \n",
      " 22  date_stamp          161390 non-null  object \n",
      " 23  Text                161390 non-null  object \n",
      " 24  token               161390 non-null  object \n",
      "dtypes: float64(5), int64(12), object(8)\n",
      "memory usage: 30.8+ MB\n"
     ]
    }
   ],
   "source": [
    "df.info()"
   ],
   "metadata": {
    "collapsed": false
   }
  },
  {
   "cell_type": "code",
   "execution_count": 4,
   "outputs": [
    {
     "data": {
      "text/plain": "                        _id             tweet_ID    user_ID  t1  t2  t3  t4  \\\n0  634637137380598a236355ae  1245550415581716481   37874853   1   0   0   0   \n1  634637137380598a236355af  1245550321511718912   44290654   1   0   0   0   \n2  634637137380598a236355b0  1245550270190419969  115624161   1   1   1   1   \n3  634637137380598a236355b1  1245550206457954305   20155794   1   0   0   0   \n4  634637137380598a236355b2  1245548702233583618   35202527   1   1   1   1   \n\n   t5  t6  t7  ...  fear_intensity  sadness_intensity  joy_intensity  \\\n0   0   0   0  ...           0.490              0.437          0.281   \n1   0   0   0  ...           0.490              0.437          0.281   \n2   0   0   0  ...           0.512              0.446          0.162   \n3   0   0   0  ...           0.423              0.340          0.319   \n4   0   0   0  ...           0.348              0.425          0.255   \n\n   sentiment_category     emotion_category  keyword_used  country_region  \\\n0             neutral  no specific emotion         covid       Singapore   \n1             neutral  no specific emotion         covid       Singapore   \n2            negative                 fear         covid       Singapore   \n3             neutral  no specific emotion         covid       Singapore   \n4            negative              sadness         covid       Singapore   \n\n            date_stamp                                               Text  \\\n0  2020-04-02 00:00:00  HDB closes Bukit Merah branch office after sec...   \n1  2020-04-02 00:00:00  HDB closes Bukit Merah branch office after sec...   \n2  2020-04-02 00:00:00  Quarantine stress baking? 😆\\n\\nhttps://t.co/zH...   \n3  2020-04-02 00:00:00  Every vaccine and treatment in development for...   \n4  2020-04-02 00:00:00  this was the second read.. \\nhttps://t.co/wYID...   \n\n                                               token  \n0  [hdb, close, bukit, merah, branch, office, sec...  \n1  [hdb, close, bukit, merah, branch, office, sec...  \n2               [quarantine, stress, baking, 😆, URL]  \n3  [every, vaccine, treatment, development, covid...  \n4                        [wa, second, read, .., URL]  \n\n[5 rows x 25 columns]",
      "text/html": "<div>\n<style scoped>\n    .dataframe tbody tr th:only-of-type {\n        vertical-align: middle;\n    }\n\n    .dataframe tbody tr th {\n        vertical-align: top;\n    }\n\n    .dataframe thead th {\n        text-align: right;\n    }\n</style>\n<table border=\"1\" class=\"dataframe\">\n  <thead>\n    <tr style=\"text-align: right;\">\n      <th></th>\n      <th>_id</th>\n      <th>tweet_ID</th>\n      <th>user_ID</th>\n      <th>t1</th>\n      <th>t2</th>\n      <th>t3</th>\n      <th>t4</th>\n      <th>t5</th>\n      <th>t6</th>\n      <th>t7</th>\n      <th>...</th>\n      <th>fear_intensity</th>\n      <th>sadness_intensity</th>\n      <th>joy_intensity</th>\n      <th>sentiment_category</th>\n      <th>emotion_category</th>\n      <th>keyword_used</th>\n      <th>country_region</th>\n      <th>date_stamp</th>\n      <th>Text</th>\n      <th>token</th>\n    </tr>\n  </thead>\n  <tbody>\n    <tr>\n      <th>0</th>\n      <td>634637137380598a236355ae</td>\n      <td>1245550415581716481</td>\n      <td>37874853</td>\n      <td>1</td>\n      <td>0</td>\n      <td>0</td>\n      <td>0</td>\n      <td>0</td>\n      <td>0</td>\n      <td>0</td>\n      <td>...</td>\n      <td>0.490</td>\n      <td>0.437</td>\n      <td>0.281</td>\n      <td>neutral</td>\n      <td>no specific emotion</td>\n      <td>covid</td>\n      <td>Singapore</td>\n      <td>2020-04-02 00:00:00</td>\n      <td>HDB closes Bukit Merah branch office after sec...</td>\n      <td>[hdb, close, bukit, merah, branch, office, sec...</td>\n    </tr>\n    <tr>\n      <th>1</th>\n      <td>634637137380598a236355af</td>\n      <td>1245550321511718912</td>\n      <td>44290654</td>\n      <td>1</td>\n      <td>0</td>\n      <td>0</td>\n      <td>0</td>\n      <td>0</td>\n      <td>0</td>\n      <td>0</td>\n      <td>...</td>\n      <td>0.490</td>\n      <td>0.437</td>\n      <td>0.281</td>\n      <td>neutral</td>\n      <td>no specific emotion</td>\n      <td>covid</td>\n      <td>Singapore</td>\n      <td>2020-04-02 00:00:00</td>\n      <td>HDB closes Bukit Merah branch office after sec...</td>\n      <td>[hdb, close, bukit, merah, branch, office, sec...</td>\n    </tr>\n    <tr>\n      <th>2</th>\n      <td>634637137380598a236355b0</td>\n      <td>1245550270190419969</td>\n      <td>115624161</td>\n      <td>1</td>\n      <td>1</td>\n      <td>1</td>\n      <td>1</td>\n      <td>0</td>\n      <td>0</td>\n      <td>0</td>\n      <td>...</td>\n      <td>0.512</td>\n      <td>0.446</td>\n      <td>0.162</td>\n      <td>negative</td>\n      <td>fear</td>\n      <td>covid</td>\n      <td>Singapore</td>\n      <td>2020-04-02 00:00:00</td>\n      <td>Quarantine stress baking? 😆\\n\\nhttps://t.co/zH...</td>\n      <td>[quarantine, stress, baking, 😆, URL]</td>\n    </tr>\n    <tr>\n      <th>3</th>\n      <td>634637137380598a236355b1</td>\n      <td>1245550206457954305</td>\n      <td>20155794</td>\n      <td>1</td>\n      <td>0</td>\n      <td>0</td>\n      <td>0</td>\n      <td>0</td>\n      <td>0</td>\n      <td>0</td>\n      <td>...</td>\n      <td>0.423</td>\n      <td>0.340</td>\n      <td>0.319</td>\n      <td>neutral</td>\n      <td>no specific emotion</td>\n      <td>covid</td>\n      <td>Singapore</td>\n      <td>2020-04-02 00:00:00</td>\n      <td>Every vaccine and treatment in development for...</td>\n      <td>[every, vaccine, treatment, development, covid...</td>\n    </tr>\n    <tr>\n      <th>4</th>\n      <td>634637137380598a236355b2</td>\n      <td>1245548702233583618</td>\n      <td>35202527</td>\n      <td>1</td>\n      <td>1</td>\n      <td>1</td>\n      <td>1</td>\n      <td>0</td>\n      <td>0</td>\n      <td>0</td>\n      <td>...</td>\n      <td>0.348</td>\n      <td>0.425</td>\n      <td>0.255</td>\n      <td>negative</td>\n      <td>sadness</td>\n      <td>covid</td>\n      <td>Singapore</td>\n      <td>2020-04-02 00:00:00</td>\n      <td>this was the second read.. \\nhttps://t.co/wYID...</td>\n      <td>[wa, second, read, .., URL]</td>\n    </tr>\n  </tbody>\n</table>\n<p>5 rows × 25 columns</p>\n</div>"
     },
     "execution_count": 4,
     "metadata": {},
     "output_type": "execute_result"
    }
   ],
   "source": [
    "df.head()"
   ],
   "metadata": {
    "collapsed": false
   }
  },
  {
   "cell_type": "code",
   "execution_count": 5,
   "outputs": [],
   "source": [
    "df = df[[\"sentiment_category\", \"Text\", \"token\"]].copy()"
   ],
   "metadata": {
    "collapsed": false
   }
  },
  {
   "cell_type": "code",
   "execution_count": 6,
   "outputs": [
    {
     "name": "stdout",
     "output_type": "stream",
     "text": [
      "<class 'pandas.core.frame.DataFrame'>\n",
      "RangeIndex: 161390 entries, 0 to 161389\n",
      "Data columns (total 3 columns):\n",
      " #   Column              Non-Null Count   Dtype \n",
      "---  ------              --------------   ----- \n",
      " 0   sentiment_category  161390 non-null  object\n",
      " 1   Text                161390 non-null  object\n",
      " 2   token               161390 non-null  object\n",
      "dtypes: object(3)\n",
      "memory usage: 3.7+ MB\n"
     ]
    }
   ],
   "source": [
    "df.info()"
   ],
   "metadata": {
    "collapsed": false
   }
  },
  {
   "cell_type": "code",
   "execution_count": 7,
   "outputs": [
    {
     "data": {
      "text/plain": "Dataset({\n    features: ['sentiment_category', 'Text', 'token'],\n    num_rows: 161390\n})"
     },
     "execution_count": 7,
     "metadata": {},
     "output_type": "execute_result"
    }
   ],
   "source": [
    "from datasets import Dataset\n",
    "\n",
    "hg_dataset = Dataset.from_pandas(df)\n",
    "hg_dataset"
   ],
   "metadata": {
    "collapsed": false
   }
  },
  {
   "cell_type": "code",
   "execution_count": 8,
   "outputs": [],
   "source": [
    "hg_dataset = hg_dataset.train_test_split(test_size=0.2)"
   ],
   "metadata": {
    "collapsed": false
   }
  },
  {
   "cell_type": "code",
   "execution_count": 9,
   "outputs": [
    {
     "data": {
      "text/plain": "DatasetDict({\n    train: Dataset({\n        features: ['sentiment_category', 'Text', 'token'],\n        num_rows: 129112\n    })\n    test: Dataset({\n        features: ['sentiment_category', 'Text', 'token'],\n        num_rows: 32278\n    })\n})"
     },
     "execution_count": 9,
     "metadata": {},
     "output_type": "execute_result"
    }
   ],
   "source": [
    "hg_dataset"
   ],
   "metadata": {
    "collapsed": false
   }
  },
  {
   "cell_type": "code",
   "execution_count": 10,
   "outputs": [],
   "source": [
    "hg_dataset = hg_dataset.rename_column(original_column_name=\"sentiment_category\", new_column_name=\"label\")"
   ],
   "metadata": {
    "collapsed": false
   }
  },
  {
   "cell_type": "code",
   "execution_count": 11,
   "outputs": [
    {
     "data": {
      "text/plain": "{'label': 'positive',\n 'Text': '\"New Zealand records first COVID-19 cases in 102 days\"  https://t.co/Z4PHbals1y',\n 'token': ['new',\n  'zealand',\n  'record',\n  'first',\n  'covid',\n  '19',\n  'case',\n  '102',\n  'day',\n  'URL']}"
     },
     "execution_count": 11,
     "metadata": {},
     "output_type": "execute_result"
    }
   ],
   "source": [
    "hg_dataset[\"train\"][0]"
   ],
   "metadata": {
    "collapsed": false
   }
  },
  {
   "cell_type": "code",
   "execution_count": 12,
   "outputs": [
    {
     "data": {
      "text/plain": "Downloading:   0%|          | 0.00/28.0 [00:00<?, ?B/s]",
      "application/vnd.jupyter.widget-view+json": {
       "version_major": 2,
       "version_minor": 0,
       "model_id": "3feba5c685b64d818e42fd4c7879ee52"
      }
     },
     "metadata": {},
     "output_type": "display_data"
    },
    {
     "data": {
      "text/plain": "Downloading:   0%|          | 0.00/483 [00:00<?, ?B/s]",
      "application/vnd.jupyter.widget-view+json": {
       "version_major": 2,
       "version_minor": 0,
       "model_id": "b805dfe11d564b0d806da251b1eb50e5"
      }
     },
     "metadata": {},
     "output_type": "display_data"
    },
    {
     "data": {
      "text/plain": "Downloading:   0%|          | 0.00/232k [00:00<?, ?B/s]",
      "application/vnd.jupyter.widget-view+json": {
       "version_major": 2,
       "version_minor": 0,
       "model_id": "c8d96cf725894154a3c284d132993fea"
      }
     },
     "metadata": {},
     "output_type": "display_data"
    },
    {
     "data": {
      "text/plain": "Downloading:   0%|          | 0.00/466k [00:00<?, ?B/s]",
      "application/vnd.jupyter.widget-view+json": {
       "version_major": 2,
       "version_minor": 0,
       "model_id": "1f2cfb24427442f2beacb1367d330d8b"
      }
     },
     "metadata": {},
     "output_type": "display_data"
    }
   ],
   "source": [
    "tokenizer = AutoTokenizer.from_pretrained(\"distilbert-base-uncased\")"
   ],
   "metadata": {
    "collapsed": false
   }
  },
  {
   "cell_type": "code",
   "execution_count": 13,
   "outputs": [
    {
     "data": {
      "text/plain": "True"
     },
     "execution_count": 13,
     "metadata": {},
     "output_type": "execute_result"
    }
   ],
   "source": [
    "tokenizer.is_fast"
   ],
   "metadata": {
    "collapsed": false
   }
  },
  {
   "cell_type": "code",
   "execution_count": 14,
   "outputs": [
    {
     "data": {
      "text/plain": "{'input_ids': [101, 2047, 3414, 2501, 2034, 2522, 17258, 2539, 2553, 9402, 2154, 24471, 2140, 102], 'attention_mask': [1, 1, 1, 1, 1, 1, 1, 1, 1, 1, 1, 1, 1, 1]}"
     },
     "execution_count": 14,
     "metadata": {},
     "output_type": "execute_result"
    }
   ],
   "source": [
    "inputs = tokenizer(hg_dataset[\"train\"][0][\"token\"], is_split_into_words=True)\n",
    "inputs"
   ],
   "metadata": {
    "collapsed": false
   }
  },
  {
   "cell_type": "code",
   "execution_count": 15,
   "outputs": [
    {
     "data": {
      "text/plain": "['[CLS]',\n 'new',\n 'zealand',\n 'record',\n 'first',\n 'co',\n '##vid',\n '19',\n 'case',\n '102',\n 'day',\n 'ur',\n '##l',\n '[SEP]']"
     },
     "execution_count": 15,
     "metadata": {},
     "output_type": "execute_result"
    }
   ],
   "source": [
    "inputs.tokens()"
   ],
   "metadata": {
    "collapsed": false
   }
  },
  {
   "cell_type": "code",
   "execution_count": 16,
   "outputs": [
    {
     "data": {
      "text/plain": "[None, 0, 1, 2, 3, 4, 4, 5, 6, 7, 8, 9, 9, None]"
     },
     "execution_count": 16,
     "metadata": {},
     "output_type": "execute_result"
    }
   ],
   "source": [
    "inputs.word_ids()"
   ],
   "metadata": {
    "collapsed": false
   }
  },
  {
   "cell_type": "code",
   "execution_count": 17,
   "outputs": [
    {
     "data": {
      "text/plain": "  0%|          | 0/130 [00:00<?, ?ba/s]",
      "application/vnd.jupyter.widget-view+json": {
       "version_major": 2,
       "version_minor": 0,
       "model_id": "7dd1c44160e54a00bb5f23ae82eb1949"
      }
     },
     "metadata": {},
     "output_type": "display_data"
    },
    {
     "data": {
      "text/plain": "  0%|          | 0/33 [00:00<?, ?ba/s]",
      "application/vnd.jupyter.widget-view+json": {
       "version_major": 2,
       "version_minor": 0,
       "model_id": "0ede180aa2074130a281ecd0dbc785f7"
      }
     },
     "metadata": {},
     "output_type": "display_data"
    }
   ],
   "source": [
    "def tokenize_function(doc):\n",
    "    return tokenizer(doc['token'], is_split_into_words=True)\n",
    "\n",
    "tokenized_dataset = hg_dataset.map(tokenize_function, batched=True)"
   ],
   "metadata": {
    "collapsed": false
   }
  },
  {
   "cell_type": "code",
   "execution_count": 18,
   "outputs": [
    {
     "data": {
      "text/plain": "DatasetDict({\n    train: Dataset({\n        features: ['label', 'Text', 'token', 'input_ids', 'attention_mask'],\n        num_rows: 129112\n    })\n    test: Dataset({\n        features: ['label', 'Text', 'token', 'input_ids', 'attention_mask'],\n        num_rows: 32278\n    })\n})"
     },
     "execution_count": 18,
     "metadata": {},
     "output_type": "execute_result"
    }
   ],
   "source": [
    "tokenized_dataset"
   ],
   "metadata": {
    "collapsed": false
   }
  },
  {
   "cell_type": "code",
   "execution_count": 19,
   "outputs": [
    {
     "data": {
      "text/plain": "{'label': 'positive',\n 'Text': '\"New Zealand records first COVID-19 cases in 102 days\"  https://t.co/Z4PHbals1y',\n 'token': ['new',\n  'zealand',\n  'record',\n  'first',\n  'covid',\n  '19',\n  'case',\n  '102',\n  'day',\n  'URL'],\n 'input_ids': [101,\n  2047,\n  3414,\n  2501,\n  2034,\n  2522,\n  17258,\n  2539,\n  2553,\n  9402,\n  2154,\n  24471,\n  2140,\n  102],\n 'attention_mask': [1, 1, 1, 1, 1, 1, 1, 1, 1, 1, 1, 1, 1, 1]}"
     },
     "execution_count": 19,
     "metadata": {},
     "output_type": "execute_result"
    }
   ],
   "source": [
    "tokenized_dataset['train'][0]"
   ],
   "metadata": {
    "collapsed": false
   }
  },
  {
   "cell_type": "code",
   "execution_count": null,
   "outputs": [],
   "source": [],
   "metadata": {
    "collapsed": false
   }
  }
 ],
 "metadata": {
  "kernelspec": {
   "display_name": "Python 3",
   "language": "python",
   "name": "python3"
  },
  "language_info": {
   "codemirror_mode": {
    "name": "ipython",
    "version": 2
   },
   "file_extension": ".py",
   "mimetype": "text/x-python",
   "name": "python",
   "nbconvert_exporter": "python",
   "pygments_lexer": "ipython2",
   "version": "2.7.6"
  }
 },
 "nbformat": 4,
 "nbformat_minor": 0
}
