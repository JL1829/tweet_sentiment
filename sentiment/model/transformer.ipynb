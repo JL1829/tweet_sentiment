{
 "cells": [
  {
   "cell_type": "markdown",
   "source": [
    "# Transformer Model Experiment"
   ],
   "metadata": {
    "collapsed": false
   }
  },
  {
   "cell_type": "code",
   "execution_count": 1,
   "outputs": [
    {
     "name": "stdout",
     "output_type": "stream",
     "text": [
      "NOTICE: sentiment log file will be at /home/ubuntu/miniconda3/envs/tweet/lib/python3.8/site-packages/sentiment-0.0.1-py3.8.egg/sentiment/logs/sentiment.log\n"
     ]
    },
    {
     "name": "stderr",
     "output_type": "stream",
     "text": [
      "[nltk_data] Downloading package wordnet to /home/ubuntu/nltk_data...\n",
      "[nltk_data]   Package wordnet is already up-to-date!\n",
      "[nltk_data] Downloading package stopwords to /home/ubuntu/nltk_data...\n",
      "[nltk_data]   Package stopwords is already up-to-date!\n",
      "[nltk_data] Downloading package punkt to /home/ubuntu/nltk_data...\n",
      "[nltk_data]   Package punkt is already up-to-date!\n",
      "2022-10-21 17:38:01,096 : INFO : Initialized Mongo Connection to db:PLP, collection: AStarCOVID\n"
     ]
    },
    {
     "data": {
      "text/plain": "\n        Database: Database(MongoClient(host=['192.168.50.72:27017'], document_class=dict, tz_aware=False, connect=True), 'PLP'),\n        Collection: Collection(Database(MongoClient(host=['192.168.50.72:27017'], document_class=dict, tz_aware=False, connect=True), 'PLP'), 'AStarCOVID')\n        Length : 161390\n        Sample: {'Text': '@pixelatedboat “Dipshit who pretended Covid-19 was fake has '\n         'contacted it. We, ehem, wish him well. And the Cheeto is due any day '\n         'now.”\\n'\n         '\\n'\n         'At least that’s what Google translate gave me.',\n '_id': ObjectId('634639407380598a236485de'),\n 'anger_intensity': 0.484,\n 'country_region': 'Singapore',\n 'date_stamp': '2020-07-08 00:00:00',\n 'emotion_category': 'no specific emotion',\n 'fear_intensity': 0.389,\n 'joy_intensity': 0.324,\n 'keyword_used': 'covid',\n 'sadness_intensity': 0.42,\n 'sentiment_category': 'neutral',\n 't1': 1,\n 't10': 1,\n 't2': 1,\n 't3': 1,\n 't4': 1,\n 't5': 1,\n 't6': 1,\n 't7': 1,\n 't8': 1,\n 't9': 1,\n 'tweet_ID': 1280533390005960705,\n 'user_ID': 704903653,\n 'valence_intensity': 0.482}\n        "
     },
     "execution_count": 1,
     "metadata": {},
     "output_type": "execute_result"
    }
   ],
   "source": [
    "from sentiment.dataset.load_dataset import LoadDataset\n",
    "from sentiment.dataset.tokenizer import SimpleTokenizer\n",
    "from datasets import load_dataset\n",
    "from transformers import AutoTokenizer\n",
    "from transformers import AutoModelForSequenceClassification\n",
    "\n",
    "simple_tokenizer = SimpleTokenizer()\n",
    "\n",
    "dataset = LoadDataset(\n",
    "        database_name=\"PLP\",\n",
    "        collection_name=\"AStarCOVID\",\n",
    "        n_rows=\"max\",\n",
    "        tokenizer=simple_tokenizer,\n",
    "        column_name=\"Text\"\n",
    ")\n",
    "dataset"
   ],
   "metadata": {
    "collapsed": false
   }
  },
  {
   "cell_type": "code",
   "execution_count": 2,
   "outputs": [
    {
     "name": "stderr",
     "output_type": "stream",
     "text": [
      "2022-10-21 17:38:02,545 : INFO : Returning Pandas DataFrame with maximum row: 161390\n",
      "100%|██████████| 161390/161390 [00:41<00:00, 3858.45it/s]\n"
     ]
    }
   ],
   "source": [
    "df = dataset.to_pandas()"
   ],
   "metadata": {
    "collapsed": false
   }
  },
  {
   "cell_type": "code",
   "execution_count": 3,
   "outputs": [
    {
     "data": {
      "text/plain": "Index(['_id', 'tweet_ID', 'user_ID', 't1', 't2', 't3', 't4', 't5', 't6', 't7',\n       't8', 't9', 't10', 'valence_intensity', 'anger_intensity',\n       'fear_intensity', 'sadness_intensity', 'joy_intensity',\n       'sentiment_category', 'emotion_category', 'keyword_used',\n       'country_region', 'date_stamp', 'Text', 'tokens'],\n      dtype='object')"
     },
     "execution_count": 3,
     "metadata": {},
     "output_type": "execute_result"
    }
   ],
   "source": [
    "df.columns"
   ],
   "metadata": {
    "collapsed": false
   }
  },
  {
   "cell_type": "code",
   "execution_count": 4,
   "outputs": [
    {
     "name": "stdout",
     "output_type": "stream",
     "text": [
      "<class 'pandas.core.frame.DataFrame'>\n",
      "RangeIndex: 161390 entries, 0 to 161389\n",
      "Data columns (total 3 columns):\n",
      " #   Column              Non-Null Count   Dtype \n",
      "---  ------              --------------   ----- \n",
      " 0   sentiment_category  161390 non-null  object\n",
      " 1   Text                161390 non-null  object\n",
      " 2   tokens              161390 non-null  object\n",
      "dtypes: object(3)\n",
      "memory usage: 3.7+ MB\n"
     ]
    }
   ],
   "source": [
    "df = df[[\"sentiment_category\", \"Text\", \"tokens\"]].copy()\n",
    "df.info()"
   ],
   "metadata": {
    "collapsed": false
   }
  },
  {
   "cell_type": "code",
   "execution_count": 5,
   "outputs": [
    {
     "data": {
      "text/plain": "  sentiment_category                                               Text  \\\n0            neutral  HDB closes Bukit Merah branch office after sec...   \n1            neutral  HDB closes Bukit Merah branch office after sec...   \n2           negative  Quarantine stress baking? 😆\\n\\nhttps://t.co/zH...   \n3            neutral  Every vaccine and treatment in development for...   \n4           negative  this was the second read.. \\nhttps://t.co/wYID...   \n\n                                              tokens  \n0  [hdb, close, bukit, merah, branch, office, sec...  \n1  [hdb, close, bukit, merah, branch, office, sec...  \n2               [quarantine, stress, baking, 😆, URL]  \n3  [every, vaccine, treatment, development, covid...  \n4                        [wa, second, read, .., URL]  ",
      "text/html": "<div>\n<style scoped>\n    .dataframe tbody tr th:only-of-type {\n        vertical-align: middle;\n    }\n\n    .dataframe tbody tr th {\n        vertical-align: top;\n    }\n\n    .dataframe thead th {\n        text-align: right;\n    }\n</style>\n<table border=\"1\" class=\"dataframe\">\n  <thead>\n    <tr style=\"text-align: right;\">\n      <th></th>\n      <th>sentiment_category</th>\n      <th>Text</th>\n      <th>tokens</th>\n    </tr>\n  </thead>\n  <tbody>\n    <tr>\n      <th>0</th>\n      <td>neutral</td>\n      <td>HDB closes Bukit Merah branch office after sec...</td>\n      <td>[hdb, close, bukit, merah, branch, office, sec...</td>\n    </tr>\n    <tr>\n      <th>1</th>\n      <td>neutral</td>\n      <td>HDB closes Bukit Merah branch office after sec...</td>\n      <td>[hdb, close, bukit, merah, branch, office, sec...</td>\n    </tr>\n    <tr>\n      <th>2</th>\n      <td>negative</td>\n      <td>Quarantine stress baking? 😆\\n\\nhttps://t.co/zH...</td>\n      <td>[quarantine, stress, baking, 😆, URL]</td>\n    </tr>\n    <tr>\n      <th>3</th>\n      <td>neutral</td>\n      <td>Every vaccine and treatment in development for...</td>\n      <td>[every, vaccine, treatment, development, covid...</td>\n    </tr>\n    <tr>\n      <th>4</th>\n      <td>negative</td>\n      <td>this was the second read.. \\nhttps://t.co/wYID...</td>\n      <td>[wa, second, read, .., URL]</td>\n    </tr>\n  </tbody>\n</table>\n</div>"
     },
     "execution_count": 5,
     "metadata": {},
     "output_type": "execute_result"
    }
   ],
   "source": [
    "df.head()"
   ],
   "metadata": {
    "collapsed": false
   }
  },
  {
   "cell_type": "code",
   "execution_count": 6,
   "outputs": [
    {
     "data": {
      "text/plain": "LabelEncoder()",
      "text/html": "<style>#sk-container-id-1 {color: black;background-color: white;}#sk-container-id-1 pre{padding: 0;}#sk-container-id-1 div.sk-toggleable {background-color: white;}#sk-container-id-1 label.sk-toggleable__label {cursor: pointer;display: block;width: 100%;margin-bottom: 0;padding: 0.3em;box-sizing: border-box;text-align: center;}#sk-container-id-1 label.sk-toggleable__label-arrow:before {content: \"▸\";float: left;margin-right: 0.25em;color: #696969;}#sk-container-id-1 label.sk-toggleable__label-arrow:hover:before {color: black;}#sk-container-id-1 div.sk-estimator:hover label.sk-toggleable__label-arrow:before {color: black;}#sk-container-id-1 div.sk-toggleable__content {max-height: 0;max-width: 0;overflow: hidden;text-align: left;background-color: #f0f8ff;}#sk-container-id-1 div.sk-toggleable__content pre {margin: 0.2em;color: black;border-radius: 0.25em;background-color: #f0f8ff;}#sk-container-id-1 input.sk-toggleable__control:checked~div.sk-toggleable__content {max-height: 200px;max-width: 100%;overflow: auto;}#sk-container-id-1 input.sk-toggleable__control:checked~label.sk-toggleable__label-arrow:before {content: \"▾\";}#sk-container-id-1 div.sk-estimator input.sk-toggleable__control:checked~label.sk-toggleable__label {background-color: #d4ebff;}#sk-container-id-1 div.sk-label input.sk-toggleable__control:checked~label.sk-toggleable__label {background-color: #d4ebff;}#sk-container-id-1 input.sk-hidden--visually {border: 0;clip: rect(1px 1px 1px 1px);clip: rect(1px, 1px, 1px, 1px);height: 1px;margin: -1px;overflow: hidden;padding: 0;position: absolute;width: 1px;}#sk-container-id-1 div.sk-estimator {font-family: monospace;background-color: #f0f8ff;border: 1px dotted black;border-radius: 0.25em;box-sizing: border-box;margin-bottom: 0.5em;}#sk-container-id-1 div.sk-estimator:hover {background-color: #d4ebff;}#sk-container-id-1 div.sk-parallel-item::after {content: \"\";width: 100%;border-bottom: 1px solid gray;flex-grow: 1;}#sk-container-id-1 div.sk-label:hover label.sk-toggleable__label {background-color: #d4ebff;}#sk-container-id-1 div.sk-serial::before {content: \"\";position: absolute;border-left: 1px solid gray;box-sizing: border-box;top: 0;bottom: 0;left: 50%;z-index: 0;}#sk-container-id-1 div.sk-serial {display: flex;flex-direction: column;align-items: center;background-color: white;padding-right: 0.2em;padding-left: 0.2em;position: relative;}#sk-container-id-1 div.sk-item {position: relative;z-index: 1;}#sk-container-id-1 div.sk-parallel {display: flex;align-items: stretch;justify-content: center;background-color: white;position: relative;}#sk-container-id-1 div.sk-item::before, #sk-container-id-1 div.sk-parallel-item::before {content: \"\";position: absolute;border-left: 1px solid gray;box-sizing: border-box;top: 0;bottom: 0;left: 50%;z-index: -1;}#sk-container-id-1 div.sk-parallel-item {display: flex;flex-direction: column;z-index: 1;position: relative;background-color: white;}#sk-container-id-1 div.sk-parallel-item:first-child::after {align-self: flex-end;width: 50%;}#sk-container-id-1 div.sk-parallel-item:last-child::after {align-self: flex-start;width: 50%;}#sk-container-id-1 div.sk-parallel-item:only-child::after {width: 0;}#sk-container-id-1 div.sk-dashed-wrapped {border: 1px dashed gray;margin: 0 0.4em 0.5em 0.4em;box-sizing: border-box;padding-bottom: 0.4em;background-color: white;}#sk-container-id-1 div.sk-label label {font-family: monospace;font-weight: bold;display: inline-block;line-height: 1.2em;}#sk-container-id-1 div.sk-label-container {text-align: center;}#sk-container-id-1 div.sk-container {/* jupyter's `normalize.less` sets `[hidden] { display: none; }` but bootstrap.min.css set `[hidden] { display: none !important; }` so we also need the `!important` here to be able to override the default hidden behavior on the sphinx rendered scikit-learn.org. See: https://github.com/scikit-learn/scikit-learn/issues/21755 */display: inline-block !important;position: relative;}#sk-container-id-1 div.sk-text-repr-fallback {display: none;}</style><div id=\"sk-container-id-1\" class=\"sk-top-container\"><div class=\"sk-text-repr-fallback\"><pre>LabelEncoder()</pre><b>In a Jupyter environment, please rerun this cell to show the HTML representation or trust the notebook. <br />On GitHub, the HTML representation is unable to render, please try loading this page with nbviewer.org.</b></div><div class=\"sk-container\" hidden><div class=\"sk-item\"><div class=\"sk-estimator sk-toggleable\"><input class=\"sk-toggleable__control sk-hidden--visually\" id=\"sk-estimator-id-1\" type=\"checkbox\" checked><label for=\"sk-estimator-id-1\" class=\"sk-toggleable__label sk-toggleable__label-arrow\">LabelEncoder</label><div class=\"sk-toggleable__content\"><pre>LabelEncoder()</pre></div></div></div></div></div>"
     },
     "execution_count": 6,
     "metadata": {},
     "output_type": "execute_result"
    }
   ],
   "source": [
    "from sklearn.preprocessing import LabelEncoder\n",
    "\n",
    "le = LabelEncoder()\n",
    "le.fit(df[\"sentiment_category\"])\n",
    "le"
   ],
   "metadata": {
    "collapsed": false
   }
  },
  {
   "cell_type": "code",
   "execution_count": 7,
   "outputs": [
    {
     "data": {
      "text/plain": "numpy.ndarray"
     },
     "execution_count": 7,
     "metadata": {},
     "output_type": "execute_result"
    }
   ],
   "source": [
    "type(le.classes_)"
   ],
   "metadata": {
    "collapsed": false
   }
  },
  {
   "cell_type": "code",
   "execution_count": 8,
   "outputs": [
    {
     "name": "stdout",
     "output_type": "stream",
     "text": [
      "['negative' 'neutral' 'positive' 'very negative' 'very positive']\n"
     ]
    }
   ],
   "source": [
    "print(le.classes_)"
   ],
   "metadata": {
    "collapsed": false
   }
  },
  {
   "cell_type": "code",
   "execution_count": 9,
   "outputs": [
    {
     "data": {
      "text/plain": "array(['negative', 'neutral', 'positive', 'very negative',\n       'very positive'], dtype=object)"
     },
     "execution_count": 9,
     "metadata": {},
     "output_type": "execute_result"
    }
   ],
   "source": [
    "le.classes_"
   ],
   "metadata": {
    "collapsed": false
   }
  },
  {
   "cell_type": "code",
   "execution_count": 10,
   "outputs": [
    {
     "data": {
      "text/plain": "{'negative': 0,\n 'neutral': 1,\n 'positive': 2,\n 'very negative': 3,\n 'very positive': 4}"
     },
     "execution_count": 10,
     "metadata": {},
     "output_type": "execute_result"
    }
   ],
   "source": [
    "label2id = dict()\n",
    "for index, element in enumerate(le.classes_):\n",
    "    label2id[element] = index\n",
    "label2id"
   ],
   "metadata": {
    "collapsed": false
   }
  },
  {
   "cell_type": "code",
   "execution_count": 11,
   "outputs": [
    {
     "data": {
      "text/plain": "{0: 'negative',\n 1: 'neutral',\n 2: 'positive',\n 3: 'very negative',\n 4: 'very positive'}"
     },
     "execution_count": 11,
     "metadata": {},
     "output_type": "execute_result"
    }
   ],
   "source": [
    "id2label = {value:key for key, value in label2id.items()}\n",
    "id2label"
   ],
   "metadata": {
    "collapsed": false
   }
  },
  {
   "cell_type": "code",
   "execution_count": 12,
   "outputs": [
    {
     "data": {
      "text/plain": "  sentiment_category                                               Text  \\\n0            neutral  HDB closes Bukit Merah branch office after sec...   \n1            neutral  HDB closes Bukit Merah branch office after sec...   \n2           negative  Quarantine stress baking? 😆\\n\\nhttps://t.co/zH...   \n3            neutral  Every vaccine and treatment in development for...   \n4           negative  this was the second read.. \\nhttps://t.co/wYID...   \n\n                                              tokens  labels  \n0  [hdb, close, bukit, merah, branch, office, sec...       1  \n1  [hdb, close, bukit, merah, branch, office, sec...       1  \n2               [quarantine, stress, baking, 😆, URL]       0  \n3  [every, vaccine, treatment, development, covid...       1  \n4                        [wa, second, read, .., URL]       0  ",
      "text/html": "<div>\n<style scoped>\n    .dataframe tbody tr th:only-of-type {\n        vertical-align: middle;\n    }\n\n    .dataframe tbody tr th {\n        vertical-align: top;\n    }\n\n    .dataframe thead th {\n        text-align: right;\n    }\n</style>\n<table border=\"1\" class=\"dataframe\">\n  <thead>\n    <tr style=\"text-align: right;\">\n      <th></th>\n      <th>sentiment_category</th>\n      <th>Text</th>\n      <th>tokens</th>\n      <th>labels</th>\n    </tr>\n  </thead>\n  <tbody>\n    <tr>\n      <th>0</th>\n      <td>neutral</td>\n      <td>HDB closes Bukit Merah branch office after sec...</td>\n      <td>[hdb, close, bukit, merah, branch, office, sec...</td>\n      <td>1</td>\n    </tr>\n    <tr>\n      <th>1</th>\n      <td>neutral</td>\n      <td>HDB closes Bukit Merah branch office after sec...</td>\n      <td>[hdb, close, bukit, merah, branch, office, sec...</td>\n      <td>1</td>\n    </tr>\n    <tr>\n      <th>2</th>\n      <td>negative</td>\n      <td>Quarantine stress baking? 😆\\n\\nhttps://t.co/zH...</td>\n      <td>[quarantine, stress, baking, 😆, URL]</td>\n      <td>0</td>\n    </tr>\n    <tr>\n      <th>3</th>\n      <td>neutral</td>\n      <td>Every vaccine and treatment in development for...</td>\n      <td>[every, vaccine, treatment, development, covid...</td>\n      <td>1</td>\n    </tr>\n    <tr>\n      <th>4</th>\n      <td>negative</td>\n      <td>this was the second read.. \\nhttps://t.co/wYID...</td>\n      <td>[wa, second, read, .., URL]</td>\n      <td>0</td>\n    </tr>\n  </tbody>\n</table>\n</div>"
     },
     "execution_count": 12,
     "metadata": {},
     "output_type": "execute_result"
    }
   ],
   "source": [
    "df[\"labels\"] = le.fit_transform(df[\"sentiment_category\"])\n",
    "df.head()"
   ],
   "metadata": {
    "collapsed": false
   }
  },
  {
   "cell_type": "code",
   "execution_count": 13,
   "outputs": [
    {
     "name": "stdout",
     "output_type": "stream",
     "text": [
      "<class 'pandas.core.frame.DataFrame'>\n",
      "Int64Index: 145251 entries, 135790 to 126706\n",
      "Data columns (total 4 columns):\n",
      " #   Column              Non-Null Count   Dtype \n",
      "---  ------              --------------   ----- \n",
      " 0   sentiment_category  145251 non-null  object\n",
      " 1   Text                145251 non-null  object\n",
      " 2   tokens              145251 non-null  object\n",
      " 3   labels              145251 non-null  int64 \n",
      "dtypes: int64(1), object(3)\n",
      "memory usage: 5.5+ MB\n"
     ]
    }
   ],
   "source": [
    "from sklearn.model_selection import train_test_split\n",
    "\n",
    "train, test = train_test_split(df, test_size=0.1)\n",
    "train.info()"
   ],
   "metadata": {
    "collapsed": false
   }
  },
  {
   "cell_type": "code",
   "execution_count": 14,
   "outputs": [
    {
     "data": {
      "text/plain": "Dataset({\n    features: ['sentiment_category', 'Text', 'tokens', 'labels', '__index_level_0__'],\n    num_rows: 145251\n})"
     },
     "execution_count": 14,
     "metadata": {},
     "output_type": "execute_result"
    }
   ],
   "source": [
    "from datasets import Dataset\n",
    "\n",
    "hg_dataset_train = Dataset.from_pandas(train)\n",
    "hg_dataset_test = Dataset.from_pandas(test)\n",
    "hg_dataset_train"
   ],
   "metadata": {
    "collapsed": false
   }
  },
  {
   "cell_type": "code",
   "execution_count": 15,
   "outputs": [],
   "source": [
    "hg_dataset_train = hg_dataset_train.train_test_split(test_size=0.2)"
   ],
   "metadata": {
    "collapsed": false
   }
  },
  {
   "cell_type": "code",
   "execution_count": 16,
   "outputs": [
    {
     "data": {
      "text/plain": "DatasetDict({\n    train: Dataset({\n        features: ['sentiment_category', 'Text', 'tokens', 'labels', '__index_level_0__'],\n        num_rows: 116200\n    })\n    test: Dataset({\n        features: ['sentiment_category', 'Text', 'tokens', 'labels', '__index_level_0__'],\n        num_rows: 29051\n    })\n})"
     },
     "execution_count": 16,
     "metadata": {},
     "output_type": "execute_result"
    }
   ],
   "source": [
    "hg_dataset_train"
   ],
   "metadata": {
    "collapsed": false
   }
  },
  {
   "cell_type": "code",
   "execution_count": 17,
   "outputs": [],
   "source": [
    "tokenizer = AutoTokenizer.from_pretrained(\"distilbert-base-uncased\")"
   ],
   "metadata": {
    "collapsed": false
   }
  },
  {
   "cell_type": "code",
   "execution_count": 18,
   "outputs": [
    {
     "data": {
      "text/plain": "  0%|          | 0/117 [00:00<?, ?ba/s]",
      "application/vnd.jupyter.widget-view+json": {
       "version_major": 2,
       "version_minor": 0,
       "model_id": "d7d827bec7bd4f429ecfc671f9dd3355"
      }
     },
     "metadata": {},
     "output_type": "display_data"
    },
    {
     "data": {
      "text/plain": "  0%|          | 0/30 [00:00<?, ?ba/s]",
      "application/vnd.jupyter.widget-view+json": {
       "version_major": 2,
       "version_minor": 0,
       "model_id": "5628b0ac8a064aec975de09a09fffd5f"
      }
     },
     "metadata": {},
     "output_type": "display_data"
    }
   ],
   "source": [
    "def tokenize_function(doc):\n",
    "    return tokenizer(doc['Text'])\n",
    "\n",
    "tokenized_dataset = hg_dataset_train.map(tokenize_function, batched=True)"
   ],
   "metadata": {
    "collapsed": false
   }
  },
  {
   "cell_type": "code",
   "execution_count": 19,
   "outputs": [
    {
     "data": {
      "text/plain": "DatasetDict({\n    train: Dataset({\n        features: ['sentiment_category', 'Text', 'tokens', 'labels', '__index_level_0__', 'input_ids', 'attention_mask'],\n        num_rows: 116200\n    })\n    test: Dataset({\n        features: ['sentiment_category', 'Text', 'tokens', 'labels', '__index_level_0__', 'input_ids', 'attention_mask'],\n        num_rows: 29051\n    })\n})"
     },
     "execution_count": 19,
     "metadata": {},
     "output_type": "execute_result"
    }
   ],
   "source": [
    "tokenized_dataset"
   ],
   "metadata": {
    "collapsed": false
   }
  },
  {
   "cell_type": "code",
   "execution_count": 20,
   "outputs": [
    {
     "data": {
      "text/plain": "['labels', 'input_ids', 'attention_mask']"
     },
     "execution_count": 20,
     "metadata": {},
     "output_type": "execute_result"
    }
   ],
   "source": [
    "tokenized_dataset = tokenized_dataset.remove_columns([\"sentiment_category\", \"Text\", \"tokens\", \"__index_level_0__\"])\n",
    "tokenized_dataset.set_format(\"torch\")\n",
    "tokenized_dataset[\"train\"].column_names"
   ],
   "metadata": {
    "collapsed": false
   }
  },
  {
   "cell_type": "code",
   "execution_count": 21,
   "outputs": [],
   "source": [
    "from torch.utils.data import DataLoader\n",
    "from transformers import DataCollatorWithPadding\n",
    "data_collator = DataCollatorWithPadding(tokenizer=tokenizer)\n",
    "\n",
    "train_dataloader = DataLoader(\n",
    "    tokenized_dataset[\"train\"], shuffle=True, batch_size=16, collate_fn=data_collator\n",
    ")\n",
    "eval_dataloader = DataLoader(\n",
    "    tokenized_dataset[\"test\"], batch_size=16, collate_fn=data_collator\n",
    ")"
   ],
   "metadata": {
    "collapsed": false
   }
  },
  {
   "cell_type": "code",
   "execution_count": 22,
   "outputs": [
    {
     "name": "stderr",
     "output_type": "stream",
     "text": [
      "You're using a DistilBertTokenizerFast tokenizer. Please note that with a fast tokenizer, using the `__call__` method is faster than using a method to encode the text followed by a call to the `pad` method to get a padded encoding.\n"
     ]
    },
    {
     "data": {
      "text/plain": "{'labels': torch.Size([16]),\n 'input_ids': torch.Size([16, 109]),\n 'attention_mask': torch.Size([16, 109])}"
     },
     "execution_count": 22,
     "metadata": {},
     "output_type": "execute_result"
    }
   ],
   "source": [
    "for batch in train_dataloader:\n",
    "    break\n",
    "{k: v.shape for k, v in batch.items()}"
   ],
   "metadata": {
    "collapsed": false
   }
  },
  {
   "cell_type": "code",
   "execution_count": 23,
   "outputs": [
    {
     "name": "stderr",
     "output_type": "stream",
     "text": [
      "Some weights of the model checkpoint at distilbert-base-uncased were not used when initializing DistilBertForSequenceClassification: ['vocab_transform.weight', 'vocab_layer_norm.weight', 'vocab_projector.bias', 'vocab_projector.weight', 'vocab_transform.bias', 'vocab_layer_norm.bias']\n",
      "- This IS expected if you are initializing DistilBertForSequenceClassification from the checkpoint of a model trained on another task or with another architecture (e.g. initializing a BertForSequenceClassification model from a BertForPreTraining model).\n",
      "- This IS NOT expected if you are initializing DistilBertForSequenceClassification from the checkpoint of a model that you expect to be exactly identical (initializing a BertForSequenceClassification model from a BertForSequenceClassification model).\n",
      "Some weights of DistilBertForSequenceClassification were not initialized from the model checkpoint at distilbert-base-uncased and are newly initialized: ['classifier.bias', 'pre_classifier.bias', 'classifier.weight', 'pre_classifier.weight']\n",
      "You should probably TRAIN this model on a down-stream task to be able to use it for predictions and inference.\n"
     ]
    },
    {
     "name": "stdout",
     "output_type": "stream",
     "text": [
      "tensor(1.6813, grad_fn=<NllLossBackward0>) torch.Size([16, 5])\n"
     ]
    }
   ],
   "source": [
    "from transformers import AutoModelForSequenceClassification\n",
    "\n",
    "model = AutoModelForSequenceClassification.from_pretrained(\"distilbert-base-uncased\", num_labels=len(le.classes_), id2label=id2label)\n",
    "outputs = model(**batch)\n",
    "print(outputs.loss, outputs.logits.shape)"
   ],
   "metadata": {
    "collapsed": false
   }
  },
  {
   "cell_type": "code",
   "execution_count": 24,
   "outputs": [
    {
     "name": "stdout",
     "output_type": "stream",
     "text": [
      "21789\n"
     ]
    }
   ],
   "source": [
    "from torch.optim import AdamW\n",
    "from transformers import get_scheduler\n",
    "\n",
    "optimizer = AdamW(model.parameters(), lr=5e-5)\n",
    "\n",
    "num_epochs = 3\n",
    "num_training_steps = num_epochs * len(train_dataloader)\n",
    "lr_scheduler = get_scheduler(\n",
    "    \"linear\",\n",
    "    optimizer=optimizer,\n",
    "    num_warmup_steps=0,\n",
    "    num_training_steps=num_training_steps,\n",
    ")\n",
    "print(num_training_steps)"
   ],
   "metadata": {
    "collapsed": false
   }
  },
  {
   "cell_type": "code",
   "execution_count": 25,
   "outputs": [
    {
     "data": {
      "text/plain": "device(type='cuda')"
     },
     "execution_count": 25,
     "metadata": {},
     "output_type": "execute_result"
    }
   ],
   "source": [
    "import torch\n",
    "\n",
    "device = torch.device(\"cuda\") if torch.cuda.is_available() else torch.device(\"cpu\")\n",
    "model.to(device)\n",
    "device"
   ],
   "metadata": {
    "collapsed": false
   }
  },
  {
   "cell_type": "code",
   "execution_count": 26,
   "outputs": [
    {
     "data": {
      "text/plain": "  0%|          | 0/21789 [00:00<?, ?it/s]",
      "application/vnd.jupyter.widget-view+json": {
       "version_major": 2,
       "version_minor": 0,
       "model_id": "d0c41f650306456ea89ca365318d9835"
      }
     },
     "metadata": {},
     "output_type": "display_data"
    }
   ],
   "source": [
    "from tqdm.auto import tqdm\n",
    "\n",
    "progress_bar = tqdm(range(num_training_steps))\n",
    "\n",
    "model.train()\n",
    "for epoch in range(num_epochs):\n",
    "    for batch in train_dataloader:\n",
    "        batch = {k: v.to(device) for k, v in batch.items()}\n",
    "        outputs = model(**batch)\n",
    "        loss = outputs.loss\n",
    "        loss.backward()\n",
    "\n",
    "        optimizer.step()\n",
    "        lr_scheduler.step()\n",
    "        optimizer.zero_grad()\n",
    "        progress_bar.update(1)"
   ],
   "metadata": {
    "collapsed": false
   }
  },
  {
   "cell_type": "code",
   "execution_count": 27,
   "outputs": [
    {
     "data": {
      "text/plain": "{'accuracy': 0.788750817527796}"
     },
     "execution_count": 27,
     "metadata": {},
     "output_type": "execute_result"
    }
   ],
   "source": [
    "import evaluate\n",
    "\n",
    "metric = evaluate.load(\"accuracy\")\n",
    "model.eval()\n",
    "for batch in eval_dataloader:\n",
    "    batch = {k: v.to(device) for k, v in batch.items()}\n",
    "    with torch.no_grad():\n",
    "        outputs = model(**batch)\n",
    "\n",
    "    logits = outputs.logits\n",
    "    predictions = torch.argmax(logits, dim=-1)\n",
    "    metric.add_batch(predictions=predictions, references=batch[\"labels\"])\n",
    "\n",
    "metric.compute()"
   ],
   "metadata": {
    "collapsed": false
   }
  },
  {
   "cell_type": "code",
   "execution_count": 44,
   "outputs": [
    {
     "data": {
      "text/plain": "Dataset({\n    features: ['sentiment_category', 'Text', 'tokens', 'labels', '__index_level_0__'],\n    num_rows: 16139\n})"
     },
     "execution_count": 44,
     "metadata": {},
     "output_type": "execute_result"
    }
   ],
   "source": [
    "hg_dataset_test"
   ],
   "metadata": {
    "collapsed": false
   }
  },
  {
   "cell_type": "code",
   "execution_count": 51,
   "outputs": [
    {
     "data": {
      "text/plain": "  0%|          | 0/17 [00:00<?, ?ba/s]",
      "application/vnd.jupyter.widget-view+json": {
       "version_major": 2,
       "version_minor": 0,
       "model_id": "9f25529cd0ce4ad6b4b8e871d067a48b"
      }
     },
     "metadata": {},
     "output_type": "display_data"
    },
    {
     "data": {
      "text/plain": "Dataset({\n    features: ['sentiment_category', 'Text', 'tokens', 'labels', '__index_level_0__', 'input_ids', 'attention_mask'],\n    num_rows: 16139\n})"
     },
     "execution_count": 51,
     "metadata": {},
     "output_type": "execute_result"
    }
   ],
   "source": [
    "tokenized_dataset_test = hg_dataset_test.map(tokenize_function, batched=True)\n",
    "tokenized_dataset_test"
   ],
   "metadata": {
    "collapsed": false
   }
  },
  {
   "cell_type": "code",
   "execution_count": 52,
   "outputs": [
    {
     "data": {
      "text/plain": "Dataset({\n    features: ['labels', 'input_ids', 'attention_mask'],\n    num_rows: 16139\n})"
     },
     "execution_count": 52,
     "metadata": {},
     "output_type": "execute_result"
    }
   ],
   "source": [
    "tokenized_dataset_test = tokenized_dataset_test.remove_columns([\"sentiment_category\", \"Text\", \"tokens\", \"__index_level_0__\"])\n",
    "tokenized_dataset_test"
   ],
   "metadata": {
    "collapsed": false
   }
  },
  {
   "cell_type": "code",
   "execution_count": 53,
   "outputs": [],
   "source": [
    "test_loader = DataLoader(\n",
    "    tokenized_dataset_test, batch_size=16, collate_fn=data_collator\n",
    ")"
   ],
   "metadata": {
    "collapsed": false
   }
  },
  {
   "cell_type": "code",
   "execution_count": 54,
   "outputs": [
    {
     "data": {
      "text/plain": "  0%|          | 0/1009 [00:00<?, ?it/s]",
      "application/vnd.jupyter.widget-view+json": {
       "version_major": 2,
       "version_minor": 0,
       "model_id": "9207fb4d6afe431495fc534c6cfa6a24"
      }
     },
     "metadata": {},
     "output_type": "display_data"
    },
    {
     "data": {
      "text/plain": "{'accuracy': 0.7890823471094863}"
     },
     "execution_count": 54,
     "metadata": {},
     "output_type": "execute_result"
    }
   ],
   "source": [
    "metric = evaluate.load(\"accuracy\")\n",
    "model.to(device)\n",
    "model.eval()\n",
    "\n",
    "y_pred = []\n",
    "y_true = []\n",
    "\n",
    "for batch in tqdm(test_loader, total=len(test_loader)):\n",
    "    batch = {k: v.to(device) for k, v in batch.items()}\n",
    "    with torch.no_grad():\n",
    "        outputs = model(**batch)\n",
    "\n",
    "    logits = outputs.logits\n",
    "    predictions = torch.argmax(logits, dim=-1)\n",
    "    metric.add_batch(predictions=predictions, references=batch[\"labels\"])\n",
    "    y_pred.append(predictions.detach().cpu().numpy())\n",
    "    y_true.append(batch[\"labels\"].detach().cpu().numpy())\n",
    "\n",
    "metric.compute()"
   ],
   "metadata": {
    "collapsed": false
   }
  },
  {
   "cell_type": "code",
   "execution_count": 34,
   "outputs": [
    {
     "name": "stdout",
     "output_type": "stream",
     "text": [
      "{'accuracy': 0.7890823471094863,\n",
      " 'macro avg': {'f1-score': 0.7191905597681043,\n",
      "               'precision': 0.7209556333310562,\n",
      "               'recall': 0.7193939755434734,\n",
      "               'support': 16139},\n",
      " 'negative': {'f1-score': 0.8604024943310657,\n",
      "              'precision': 0.8764255810596218,\n",
      "              'recall': 0.8449547668754349,\n",
      "              'support': 7185},\n",
      " 'neutral': {'f1-score': 0.5511462450592884,\n",
      "             'precision': 0.5159857904085258,\n",
      "             'recall': 0.5914489311163895,\n",
      "             'support': 2947},\n",
      " 'positive': {'f1-score': 0.8445180889257111,\n",
      "              'precision': 0.8588279348436623,\n",
      "              'recall': 0.8306772908366534,\n",
      "              'support': 5522},\n",
      " 'very negative': {'f1-score': 0.6955345060893099,\n",
      "                   'precision': 0.6781002638522428,\n",
      "                   'recall': 0.7138888888888889,\n",
      "                   'support': 360},\n",
      " 'very positive': {'f1-score': 0.6443514644351465,\n",
      "                   'precision': 0.6754385964912281,\n",
      "                   'recall': 0.616,\n",
      "                   'support': 125},\n",
      " 'weighted avg': {'f1-score': 0.793146114892667,\n",
      "                  'precision': 0.798607206146739,\n",
      "                  'recall': 0.7890823471094863,\n",
      "                  'support': 16139}}\n"
     ]
    }
   ],
   "source": [
    "import numpy as np\n",
    "from sklearn.metrics import classification_report\n",
    "from pprint import pprint\n",
    "pprint(classification_report(y_true=np.concatenate(y_true), y_pred=np.concatenate(y_pred), output_dict=True, target_names=le.classes_))"
   ],
   "metadata": {
    "collapsed": false
   }
  },
  {
   "cell_type": "code",
   "execution_count": 35,
   "outputs": [
    {
     "data": {
      "text/plain": "{0: 'negative',\n 1: 'neutral',\n 2: 'positive',\n 3: 'very negative',\n 4: 'very positive'}"
     },
     "execution_count": 35,
     "metadata": {},
     "output_type": "execute_result"
    }
   ],
   "source": [
    "id2label"
   ],
   "metadata": {
    "collapsed": false
   }
  },
  {
   "cell_type": "code",
   "execution_count": 36,
   "outputs": [
    {
     "data": {
      "text/plain": "array(['negative', 'neutral', 'positive', 'very negative',\n       'very positive'], dtype=object)"
     },
     "execution_count": 36,
     "metadata": {},
     "output_type": "execute_result"
    }
   ],
   "source": [
    "le.classes_"
   ],
   "metadata": {
    "collapsed": false
   }
  },
  {
   "cell_type": "code",
   "execution_count": 55,
   "outputs": [
    {
     "data": {
      "text/plain": "[[{'label': 'positive', 'score': 0.9513806700706482},\n  {'label': 'neutral', 'score': 0.04848935082554817},\n  {'label': 'negative', 'score': 0.00012132480333093554},\n  {'label': 'very positive', 'score': 8.566411452193279e-06},\n  {'label': 'very negative', 'score': 9.446768922671822e-10}]]"
     },
     "execution_count": 55,
     "metadata": {},
     "output_type": "execute_result"
    }
   ],
   "source": [
    "from transformers import TextClassificationPipeline\n",
    "model.to(\"cpu\")\n",
    "\n",
    "\n",
    "pipeline = TextClassificationPipeline(model=model, tokenizer=tokenizer, top_k=len(le.classes_))\n",
    "pipeline(test.iloc[0].Text)"
   ],
   "metadata": {
    "collapsed": false
   }
  },
  {
   "cell_type": "code",
   "execution_count": 40,
   "outputs": [
    {
     "data": {
      "text/plain": "      sentiment_category                                               Text  \\\n56288           positive  COVID-Safe Worksite, COVID-Safe Workforce, COV...   \n29035           positive  Our staffing agency in Singapore is here to he...   \n39498           negative  While some bash Covid-19 parties, others want ...   \n94534           negative  Giganet Launches Home Broadband to  3 Million ...   \n41526           negative  Dear @CMO_Odisha @Naveen_Odisha ji as you know...   \n\n                                                  tokens  labels  \n56288  [covid, safe, worksite, covid, safe, workforce...       2  \n29035  [staffing, agency, singapore, help, find, posi...       2  \n39498  [bash, covid, 19, party, others, want, immunit...       0  \n94534  [giganet, launch, home, broadband, 3, million,...       0  \n41526  [dear, cmo_odisha, naveen_odisha, ji, know, co...       0  ",
      "text/html": "<div>\n<style scoped>\n    .dataframe tbody tr th:only-of-type {\n        vertical-align: middle;\n    }\n\n    .dataframe tbody tr th {\n        vertical-align: top;\n    }\n\n    .dataframe thead th {\n        text-align: right;\n    }\n</style>\n<table border=\"1\" class=\"dataframe\">\n  <thead>\n    <tr style=\"text-align: right;\">\n      <th></th>\n      <th>sentiment_category</th>\n      <th>Text</th>\n      <th>tokens</th>\n      <th>labels</th>\n    </tr>\n  </thead>\n  <tbody>\n    <tr>\n      <th>56288</th>\n      <td>positive</td>\n      <td>COVID-Safe Worksite, COVID-Safe Workforce, COV...</td>\n      <td>[covid, safe, worksite, covid, safe, workforce...</td>\n      <td>2</td>\n    </tr>\n    <tr>\n      <th>29035</th>\n      <td>positive</td>\n      <td>Our staffing agency in Singapore is here to he...</td>\n      <td>[staffing, agency, singapore, help, find, posi...</td>\n      <td>2</td>\n    </tr>\n    <tr>\n      <th>39498</th>\n      <td>negative</td>\n      <td>While some bash Covid-19 parties, others want ...</td>\n      <td>[bash, covid, 19, party, others, want, immunit...</td>\n      <td>0</td>\n    </tr>\n    <tr>\n      <th>94534</th>\n      <td>negative</td>\n      <td>Giganet Launches Home Broadband to  3 Million ...</td>\n      <td>[giganet, launch, home, broadband, 3, million,...</td>\n      <td>0</td>\n    </tr>\n    <tr>\n      <th>41526</th>\n      <td>negative</td>\n      <td>Dear @CMO_Odisha @Naveen_Odisha ji as you know...</td>\n      <td>[dear, cmo_odisha, naveen_odisha, ji, know, co...</td>\n      <td>0</td>\n    </tr>\n  </tbody>\n</table>\n</div>"
     },
     "execution_count": 40,
     "metadata": {},
     "output_type": "execute_result"
    }
   ],
   "source": [
    "test.head()"
   ],
   "metadata": {
    "collapsed": false
   }
  },
  {
   "cell_type": "code",
   "execution_count": 41,
   "outputs": [
    {
     "name": "stdout",
     "output_type": "stream",
     "text": [
      "Train Label: positive,\tModel Prediction: positive\n",
      "Train Label: positive,\tModel Prediction: positive\n",
      "Train Label: negative,\tModel Prediction: negative\n",
      "Train Label: negative,\tModel Prediction: negative\n",
      "Train Label: negative,\tModel Prediction: negative\n"
     ]
    }
   ],
   "source": [
    "for i in range(5):\n",
    "    predict = pipeline(test.iloc[i].Text)\n",
    "    print(f'Train Label: {test.iloc[i].sentiment_category},\\tModel Prediction: {predict[0][0][\"label\"]}')"
   ],
   "metadata": {
    "collapsed": false
   }
  },
  {
   "cell_type": "code",
   "execution_count": 56,
   "outputs": [
    {
     "data": {
      "text/plain": "'/home/ubuntu/tweet_sentiment/sentiment/model'"
     },
     "execution_count": 56,
     "metadata": {},
     "output_type": "execute_result"
    }
   ],
   "source": [
    "import os\n",
    "os.getcwd()"
   ],
   "metadata": {
    "collapsed": false
   }
  },
  {
   "cell_type": "code",
   "execution_count": 58,
   "outputs": [
    {
     "data": {
      "text/plain": "['.idea',\n '.gitignore',\n 'LICENSE',\n 'README.md',\n '.git',\n 'dist',\n 'sentiment.egg-info',\n 'sentiment',\n 'build',\n 'setup.py',\n 'requirements.txt',\n '.env']"
     },
     "execution_count": 58,
     "metadata": {},
     "output_type": "execute_result"
    }
   ],
   "source": [
    "os.listdir(\"../..\")"
   ],
   "metadata": {
    "collapsed": false
   }
  },
  {
   "cell_type": "code",
   "execution_count": 59,
   "outputs": [],
   "source": [
    "import json\n",
    "report = classification_report(y_true=np.concatenate(y_true), y_pred=np.concatenate(y_pred), output_dict=True, target_names=le.classes_)\n",
    "if not os.path.isdir(\"../../reports\"):\n",
    "    os.mkdir(\"../../reports\")\n",
    "with open(\"../../reports/BertReport.json\", \"w\") as file:\n",
    "    json.dump(report, file)"
   ],
   "metadata": {
    "collapsed": false
   }
  },
  {
   "cell_type": "code",
   "execution_count": null,
   "outputs": [],
   "source": [],
   "metadata": {
    "collapsed": false
   }
  }
 ],
 "metadata": {
  "kernelspec": {
   "display_name": "Python 3",
   "language": "python",
   "name": "python3"
  },
  "language_info": {
   "codemirror_mode": {
    "name": "ipython",
    "version": 2
   },
   "file_extension": ".py",
   "mimetype": "text/x-python",
   "name": "python",
   "nbconvert_exporter": "python",
   "pygments_lexer": "ipython2",
   "version": "2.7.6"
  }
 },
 "nbformat": 4,
 "nbformat_minor": 0
}
