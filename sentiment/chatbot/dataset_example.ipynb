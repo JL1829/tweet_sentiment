{
 "cells": [
  {
   "cell_type": "code",
   "execution_count": 1,
   "metadata": {},
   "outputs": [
    {
     "name": "stdout",
     "output_type": "stream",
     "text": [
      "NOTICE: sentiment log file will be at /opt/conda/lib/python3.9/site-packages/sentiment-0.0.1-py3.9.egg/sentiment/logs/sentiment.log\n"
     ]
    },
    {
     "data": {
      "text/plain": [
       "\n",
       "        Database: Database(MongoClient(host=['192.168.50.72:27017'], document_class=dict, tz_aware=False, connect=True), 'PLP'),\n",
       "        Collection: Collection(Database(MongoClient(host=['192.168.50.72:27017'], document_class=dict, tz_aware=False, connect=True), 'PLP'), 'tweet')\n",
       "        Length : 8507\n",
       "        Sample: {'Date': '2021-11-29 17:09:07+00:00',\n",
       " 'Tweet': 'SINGAPORE - A new Covid-19 vaccine could be available in Singapore, '\n",
       "          'with American firm Novavax having applied for interim authorisation '\n",
       "          'by the Health Sciences Authority (HSA). '\n",
       "          'straitstimes.com/singapore/nova… via @stcom #CircuitBreaker '\n",
       "          '#DORSCON',\n",
       " 'Tweet_Origin': 'SINGAPORE - A new Covid-19 vaccine could be available in '\n",
       "                 'Singapore, with American firm Novavax having applied for '\n",
       "                 'interim authorisation by the Health Sciences Authority '\n",
       "                 '(HSA). https://t.co/LTsUa6WpHm via @stcom #CircuitBreaker '\n",
       "                 '#DORSCON',\n",
       " 'User': '24x7Page',\n",
       " '_id': ObjectId('6343f3b26314f4b38b412561'),\n",
       " 'hashtag': \"['CircuitBreaker', 'DORSCON']\",\n",
       " 'huggingFace_label': 'NEGATIVE',\n",
       " 'lang': 'en',\n",
       " 'url': 'https://twitter.com/24x7Page/status/1465367231718641665'}\n",
       "        "
      ]
     },
     "execution_count": 1,
     "metadata": {},
     "output_type": "execute_result"
    }
   ],
   "source": [
    "from sentiment.dataset.load_dataset import LoadDataset\n",
    "\n",
    "\n",
    "dataset = LoadDataset(\n",
    "    database_name=\"PLP\",\n",
    "    collection_name=\"tweet\"\n",
    ")\n",
    "\n",
    "dataset"
   ]
  },
  {
   "cell_type": "code",
   "execution_count": 2,
   "metadata": {},
   "outputs": [
    {
     "data": {
      "text/plain": [
       "8507"
      ]
     },
     "execution_count": 2,
     "metadata": {},
     "output_type": "execute_result"
    }
   ],
   "source": [
    "len(dataset)"
   ]
  },
  {
   "cell_type": "code",
   "execution_count": 3,
   "metadata": {},
   "outputs": [
    {
     "data": {
      "text/plain": [
       "{'_id': ObjectId('6343f3b36314f4b38b4125c5'),\n",
       " 'Date': '2021-07-22 20:41:20+00:00',\n",
       " 'url': 'https://twitter.com/masterdougles/status/1418310214768492544',\n",
       " 'User': 'masterdougles',\n",
       " 'lang': 'en',\n",
       " 'Tweet': 'Covid19 Singapore Predictions using QMDJ Prediction youtu.be/mJNqMcTsfC8 #qimen #metaphysics #covid19 #singapore #circuitbreaker',\n",
       " 'Tweet_Origin': 'Covid19 Singapore Predictions using QMDJ Prediction https://t.co/fDmtCQbgVC #qimen #metaphysics #covid19 #singapore #circuitbreaker',\n",
       " 'hashtag': \"['qimen', 'metaphysics', 'covid19', 'singapore', 'circuitbreaker']\",\n",
       " 'huggingFace_label': 'NEGATIVE'}"
      ]
     },
     "execution_count": 3,
     "metadata": {},
     "output_type": "execute_result"
    }
   ],
   "source": [
    "dataset[100]"
   ]
  },
  {
   "cell_type": "code",
   "execution_count": 4,
   "metadata": {},
   "outputs": [],
   "source": [
    "df = dataset.to_pandas()"
   ]
  },
  {
   "cell_type": "code",
   "execution_count": 5,
   "metadata": {},
   "outputs": [
    {
     "data": {
      "text/html": [
       "<div>\n",
       "<style scoped>\n",
       "    .dataframe tbody tr th:only-of-type {\n",
       "        vertical-align: middle;\n",
       "    }\n",
       "\n",
       "    .dataframe tbody tr th {\n",
       "        vertical-align: top;\n",
       "    }\n",
       "\n",
       "    .dataframe thead th {\n",
       "        text-align: right;\n",
       "    }\n",
       "</style>\n",
       "<table border=\"1\" class=\"dataframe\">\n",
       "  <thead>\n",
       "    <tr style=\"text-align: right;\">\n",
       "      <th></th>\n",
       "      <th>_id</th>\n",
       "      <th>Date</th>\n",
       "      <th>url</th>\n",
       "      <th>User</th>\n",
       "      <th>lang</th>\n",
       "      <th>Tweet</th>\n",
       "      <th>Tweet_Origin</th>\n",
       "      <th>hashtag</th>\n",
       "      <th>huggingFace_label</th>\n",
       "    </tr>\n",
       "  </thead>\n",
       "  <tbody>\n",
       "    <tr>\n",
       "      <th>0</th>\n",
       "      <td>6343f3b26314f4b38b412561</td>\n",
       "      <td>2021-11-29 17:09:07+00:00</td>\n",
       "      <td>https://twitter.com/24x7Page/status/1465367231...</td>\n",
       "      <td>24x7Page</td>\n",
       "      <td>en</td>\n",
       "      <td>SINGAPORE - A new Covid-19 vaccine could be av...</td>\n",
       "      <td>SINGAPORE - A new Covid-19 vaccine could be av...</td>\n",
       "      <td>['CircuitBreaker', 'DORSCON']</td>\n",
       "      <td>NEGATIVE</td>\n",
       "    </tr>\n",
       "    <tr>\n",
       "      <th>1</th>\n",
       "      <td>6343f3b26314f4b38b412562</td>\n",
       "      <td>2021-11-28 17:09:07+00:00</td>\n",
       "      <td>https://twitter.com/24x7Page/status/1465004843...</td>\n",
       "      <td>24x7Page</td>\n",
       "      <td>en</td>\n",
       "      <td>While DBS customers outside of Singapore also ...</td>\n",
       "      <td>While DBS customers outside of Singapore also ...</td>\n",
       "      <td>['CircuitBreaker', 'DORSCON']</td>\n",
       "      <td>NEGATIVE</td>\n",
       "    </tr>\n",
       "    <tr>\n",
       "      <th>2</th>\n",
       "      <td>6343f3b26314f4b38b412563</td>\n",
       "      <td>2021-11-28 01:09:08+00:00</td>\n",
       "      <td>https://twitter.com/24x7Page/status/1464763253...</td>\n",
       "      <td>24x7Page</td>\n",
       "      <td>en</td>\n",
       "      <td>PHOTO: JEFFREY ENCILLO, EARTH OBSERVATORY OF S...</td>\n",
       "      <td>PHOTO: JEFFREY ENCILLO, EARTH OBSERVATORY OF S...</td>\n",
       "      <td>['Retailer', 'CircuitBreaker']</td>\n",
       "      <td>NEGATIVE</td>\n",
       "    </tr>\n",
       "    <tr>\n",
       "      <th>3</th>\n",
       "      <td>6343f3b26314f4b38b412564</td>\n",
       "      <td>2021-11-27 23:09:06+00:00</td>\n",
       "      <td>https://twitter.com/24x7Page/status/1464733047...</td>\n",
       "      <td>24x7Page</td>\n",
       "      <td>en</td>\n",
       "      <td>SINGAPORE - Nearly 800 people - from secondary...</td>\n",
       "      <td>SINGAPORE - Nearly 800 people - from secondary...</td>\n",
       "      <td>['CircuitBreaker', 'SmallBusinessOwner']</td>\n",
       "      <td>POSITIVE</td>\n",
       "    </tr>\n",
       "    <tr>\n",
       "      <th>4</th>\n",
       "      <td>6343f3b26314f4b38b412565</td>\n",
       "      <td>2021-11-27 17:09:07+00:00</td>\n",
       "      <td>https://twitter.com/24x7Page/status/1464642455...</td>\n",
       "      <td>24x7Page</td>\n",
       "      <td>en</td>\n",
       "      <td>The Agriculture Innovation Mission for Climate...</td>\n",
       "      <td>The Agriculture Innovation Mission for Climate...</td>\n",
       "      <td>['CircuitBreaker', 'SmallBusinessOwner']</td>\n",
       "      <td>POSITIVE</td>\n",
       "    </tr>\n",
       "    <tr>\n",
       "      <th>...</th>\n",
       "      <td>...</td>\n",
       "      <td>...</td>\n",
       "      <td>...</td>\n",
       "      <td>...</td>\n",
       "      <td>...</td>\n",
       "      <td>...</td>\n",
       "      <td>...</td>\n",
       "      <td>...</td>\n",
       "      <td>...</td>\n",
       "    </tr>\n",
       "    <tr>\n",
       "      <th>8502</th>\n",
       "      <td>6344e8b26314f4b38b4146a3</td>\n",
       "      <td>2020-12-27 11:31:11</td>\n",
       "      <td>https://twitter.com/KazaManiRao/status/1343157...</td>\n",
       "      <td>KazaManiRao</td>\n",
       "      <td>en</td>\n",
       "      <td>#Singapore to start #COVID19 #vaccination from...</td>\n",
       "      <td>#Singapore to start #COVID19 #vaccination from...</td>\n",
       "      <td>[Singapore, COVID19, vaccination, COVIDー19, He...</td>\n",
       "      <td>NaN</td>\n",
       "    </tr>\n",
       "    <tr>\n",
       "      <th>8503</th>\n",
       "      <td>6344e8b26314f4b38b4146a4</td>\n",
       "      <td>2020-12-22 08:51:59</td>\n",
       "      <td>https://twitter.com/exambazaar/status/13413054...</td>\n",
       "      <td>exambazaar</td>\n",
       "      <td>en</td>\n",
       "      <td>Government of India has collaborated with whic...</td>\n",
       "      <td>Government of India has collaborated with whic...</td>\n",
       "      <td>[Twitter, polls, Government, COE, Singapore, F...</td>\n",
       "      <td>NaN</td>\n",
       "    </tr>\n",
       "    <tr>\n",
       "      <th>8504</th>\n",
       "      <td>6344e8b26314f4b38b4146a5</td>\n",
       "      <td>2020-12-14 09:28:51</td>\n",
       "      <td>https://twitter.com/SwaliyaNaikwadi/status/133...</td>\n",
       "      <td>SwaliyaNaikwadi</td>\n",
       "      <td>en</td>\n",
       "      <td>#COVID19 #Vaccination to be available from End...</td>\n",
       "      <td>#COVID19 #Vaccination to be available from End...</td>\n",
       "      <td>[COVID19, Vaccination, Singapore, vaccines]</td>\n",
       "      <td>NaN</td>\n",
       "    </tr>\n",
       "    <tr>\n",
       "      <th>8505</th>\n",
       "      <td>6344e8b26314f4b38b4146a6</td>\n",
       "      <td>2020-12-04 16:58:59</td>\n",
       "      <td>https://twitter.com/KohRaymond/status/13349050...</td>\n",
       "      <td>KohRaymond</td>\n",
       "      <td>en</td>\n",
       "      <td>@Femi_Sorry The World watching the Mass vaccin...</td>\n",
       "      <td>@Femi_Sorry The World watching the Mass vaccin...</td>\n",
       "      <td>[COVID19, Covid19UK, EU, Singapore, vaccinatio...</td>\n",
       "      <td>NaN</td>\n",
       "    </tr>\n",
       "    <tr>\n",
       "      <th>8506</th>\n",
       "      <td>6344e8b26314f4b38b4146a7</td>\n",
       "      <td>2020-03-02 08:13:08</td>\n",
       "      <td>https://twitter.com/docdivakar/status/12343912...</td>\n",
       "      <td>docdivakar</td>\n",
       "      <td>en</td>\n",
       "      <td>#Singapore claims first use of #antibody test ...</td>\n",
       "      <td>#Singapore claims first use of #antibody test ...</td>\n",
       "      <td>[Singapore, antibody, CoronaVirus, COVID19, SA...</td>\n",
       "      <td>NaN</td>\n",
       "    </tr>\n",
       "  </tbody>\n",
       "</table>\n",
       "<p>8507 rows × 9 columns</p>\n",
       "</div>"
      ],
      "text/plain": [
       "                           _id                       Date  \\\n",
       "0     6343f3b26314f4b38b412561  2021-11-29 17:09:07+00:00   \n",
       "1     6343f3b26314f4b38b412562  2021-11-28 17:09:07+00:00   \n",
       "2     6343f3b26314f4b38b412563  2021-11-28 01:09:08+00:00   \n",
       "3     6343f3b26314f4b38b412564  2021-11-27 23:09:06+00:00   \n",
       "4     6343f3b26314f4b38b412565  2021-11-27 17:09:07+00:00   \n",
       "...                        ...                        ...   \n",
       "8502  6344e8b26314f4b38b4146a3        2020-12-27 11:31:11   \n",
       "8503  6344e8b26314f4b38b4146a4        2020-12-22 08:51:59   \n",
       "8504  6344e8b26314f4b38b4146a5        2020-12-14 09:28:51   \n",
       "8505  6344e8b26314f4b38b4146a6        2020-12-04 16:58:59   \n",
       "8506  6344e8b26314f4b38b4146a7        2020-03-02 08:13:08   \n",
       "\n",
       "                                                    url             User lang  \\\n",
       "0     https://twitter.com/24x7Page/status/1465367231...         24x7Page   en   \n",
       "1     https://twitter.com/24x7Page/status/1465004843...         24x7Page   en   \n",
       "2     https://twitter.com/24x7Page/status/1464763253...         24x7Page   en   \n",
       "3     https://twitter.com/24x7Page/status/1464733047...         24x7Page   en   \n",
       "4     https://twitter.com/24x7Page/status/1464642455...         24x7Page   en   \n",
       "...                                                 ...              ...  ...   \n",
       "8502  https://twitter.com/KazaManiRao/status/1343157...      KazaManiRao   en   \n",
       "8503  https://twitter.com/exambazaar/status/13413054...       exambazaar   en   \n",
       "8504  https://twitter.com/SwaliyaNaikwadi/status/133...  SwaliyaNaikwadi   en   \n",
       "8505  https://twitter.com/KohRaymond/status/13349050...       KohRaymond   en   \n",
       "8506  https://twitter.com/docdivakar/status/12343912...       docdivakar   en   \n",
       "\n",
       "                                                  Tweet  \\\n",
       "0     SINGAPORE - A new Covid-19 vaccine could be av...   \n",
       "1     While DBS customers outside of Singapore also ...   \n",
       "2     PHOTO: JEFFREY ENCILLO, EARTH OBSERVATORY OF S...   \n",
       "3     SINGAPORE - Nearly 800 people - from secondary...   \n",
       "4     The Agriculture Innovation Mission for Climate...   \n",
       "...                                                 ...   \n",
       "8502  #Singapore to start #COVID19 #vaccination from...   \n",
       "8503  Government of India has collaborated with whic...   \n",
       "8504  #COVID19 #Vaccination to be available from End...   \n",
       "8505  @Femi_Sorry The World watching the Mass vaccin...   \n",
       "8506  #Singapore claims first use of #antibody test ...   \n",
       "\n",
       "                                           Tweet_Origin  \\\n",
       "0     SINGAPORE - A new Covid-19 vaccine could be av...   \n",
       "1     While DBS customers outside of Singapore also ...   \n",
       "2     PHOTO: JEFFREY ENCILLO, EARTH OBSERVATORY OF S...   \n",
       "3     SINGAPORE - Nearly 800 people - from secondary...   \n",
       "4     The Agriculture Innovation Mission for Climate...   \n",
       "...                                                 ...   \n",
       "8502  #Singapore to start #COVID19 #vaccination from...   \n",
       "8503  Government of India has collaborated with whic...   \n",
       "8504  #COVID19 #Vaccination to be available from End...   \n",
       "8505  @Femi_Sorry The World watching the Mass vaccin...   \n",
       "8506  #Singapore claims first use of #antibody test ...   \n",
       "\n",
       "                                                hashtag huggingFace_label  \n",
       "0                         ['CircuitBreaker', 'DORSCON']          NEGATIVE  \n",
       "1                         ['CircuitBreaker', 'DORSCON']          NEGATIVE  \n",
       "2                        ['Retailer', 'CircuitBreaker']          NEGATIVE  \n",
       "3              ['CircuitBreaker', 'SmallBusinessOwner']          POSITIVE  \n",
       "4              ['CircuitBreaker', 'SmallBusinessOwner']          POSITIVE  \n",
       "...                                                 ...               ...  \n",
       "8502  [Singapore, COVID19, vaccination, COVIDー19, He...               NaN  \n",
       "8503  [Twitter, polls, Government, COE, Singapore, F...               NaN  \n",
       "8504        [COVID19, Vaccination, Singapore, vaccines]               NaN  \n",
       "8505  [COVID19, Covid19UK, EU, Singapore, vaccinatio...               NaN  \n",
       "8506  [Singapore, antibody, CoronaVirus, COVID19, SA...               NaN  \n",
       "\n",
       "[8507 rows x 9 columns]"
      ]
     },
     "execution_count": 5,
     "metadata": {},
     "output_type": "execute_result"
    }
   ],
   "source": [
    "df"
   ]
  },
  {
   "cell_type": "code",
   "execution_count": 15,
   "metadata": {},
   "outputs": [
    {
     "data": {
      "text/plain": [
       "Index(['_id', 'Date', 'url', 'User', 'lang', 'Tweet', 'Tweet_Origin',\n",
       "       'hashtag', 'huggingFace_label'],\n",
       "      dtype='object')"
      ]
     },
     "execution_count": 15,
     "metadata": {},
     "output_type": "execute_result"
    }
   ],
   "source": [
    "df.columns"
   ]
  },
  {
   "cell_type": "code",
   "execution_count": 12,
   "metadata": {},
   "outputs": [
    {
     "name": "stderr",
     "output_type": "stream",
     "text": [
      "100%|██████████| 8507/8507 [00:00<00:00, 11748.38it/s]\n"
     ]
    }
   ],
   "source": [
    "from tqdm import tqdm\n",
    "\n",
    "urls = []\n",
    "\n",
    "for item in tqdm(dataset, total=len(dataset)):\n",
    "    urls.append(item[\"url\"])"
   ]
  },
  {
   "cell_type": "code",
   "execution_count": 13,
   "metadata": {},
   "outputs": [
    {
     "data": {
      "text/plain": [
       "8507"
      ]
     },
     "execution_count": 13,
     "metadata": {},
     "output_type": "execute_result"
    }
   ],
   "source": [
    "len(urls)"
   ]
  },
  {
   "cell_type": "code",
   "execution_count": 19,
   "metadata": {},
   "outputs": [
    {
     "data": {
      "text/plain": [
       "['https://twitter.com/24x7Page/status/1465367231718641665',\n",
       " 'https://twitter.com/24x7Page/status/1465004843014279170',\n",
       " 'https://twitter.com/24x7Page/status/1464763253582610434',\n",
       " 'https://twitter.com/24x7Page/status/1464733047849431045',\n",
       " 'https://twitter.com/24x7Page/status/1464642455614246918',\n",
       " 'https://twitter.com/24x7Page/status/1462860715480567813',\n",
       " 'https://twitter.com/brainopera/status/1462582726985457669',\n",
       " 'https://twitter.com/24x7Page/status/1460173038343888898',\n",
       " 'https://twitter.com/24x7Page/status/1460112639623892992',\n",
       " 'https://twitter.com/24x7Page/status/1460022052547661826']"
      ]
     },
     "execution_count": 19,
     "metadata": {},
     "output_type": "execute_result"
    }
   ],
   "source": [
    "urls[:10]"
   ]
  },
  {
   "cell_type": "code",
   "execution_count": 17,
   "metadata": {},
   "outputs": [
    {
     "name": "stderr",
     "output_type": "stream",
     "text": [
      " 98%|█████████▊| 8298/8507 [00:00<00:00, 12094.46it/s]\n"
     ]
    },
    {
     "ename": "KeyError",
     "evalue": "'huggingFace_label'",
     "output_type": "error",
     "traceback": [
      "\u001b[0;31m---------------------------------------------------------------------------\u001b[0m",
      "\u001b[0;31mKeyError\u001b[0m                                  Traceback (most recent call last)",
      "\u001b[1;32m/home/tweet_sentiment/sentiment/chatbot/dataset_example.ipynb Cell 10\u001b[0m in \u001b[0;36m<cell line: 4>\u001b[0;34m()\u001b[0m\n\u001b[1;32m      <a href='vscode-notebook-cell://attached-container%2B7b22636f6e7461696e65724e616d65223a222f77697a6172646c795f6b656c6c6572227d/home/tweet_sentiment/sentiment/chatbot/dataset_example.ipynb#X11sdnNjb2RlLXJlbW90ZQ%3D%3D?line=1'>2</a>\u001b[0m labels \u001b[39m=\u001b[39m []\n\u001b[1;32m      <a href='vscode-notebook-cell://attached-container%2B7b22636f6e7461696e65724e616d65223a222f77697a6172646c795f6b656c6c6572227d/home/tweet_sentiment/sentiment/chatbot/dataset_example.ipynb#X11sdnNjb2RlLXJlbW90ZQ%3D%3D?line=3'>4</a>\u001b[0m \u001b[39mfor\u001b[39;00m docs \u001b[39min\u001b[39;00m tqdm(dataset, total\u001b[39m=\u001b[39m\u001b[39mlen\u001b[39m(dataset)):\n\u001b[0;32m----> <a href='vscode-notebook-cell://attached-container%2B7b22636f6e7461696e65724e616d65223a222f77697a6172646c795f6b656c6c6572227d/home/tweet_sentiment/sentiment/chatbot/dataset_example.ipynb#X11sdnNjb2RlLXJlbW90ZQ%3D%3D?line=4'>5</a>\u001b[0m     labels\u001b[39m.\u001b[39mappend(docs[\u001b[39m\"\u001b[39;49m\u001b[39mhuggingFace_label\u001b[39;49m\u001b[39m\"\u001b[39;49m])\n\u001b[1;32m      <a href='vscode-notebook-cell://attached-container%2B7b22636f6e7461696e65724e616d65223a222f77697a6172646c795f6b656c6c6572227d/home/tweet_sentiment/sentiment/chatbot/dataset_example.ipynb#X11sdnNjb2RlLXJlbW90ZQ%3D%3D?line=6'>7</a>\u001b[0m Counter(labels)\n",
      "\u001b[0;31mKeyError\u001b[0m: 'huggingFace_label'"
     ]
    }
   ],
   "source": [
    "from collections import Counter\n",
    "labels = []\n",
    "\n",
    "for docs in tqdm(dataset, total=len(dataset)):\n",
    "    labels.append(docs[\"huggingFace_label\"])\n",
    "\n",
    "Counter(labels)"
   ]
  },
  {
   "cell_type": "code",
   "execution_count": 18,
   "metadata": {},
   "outputs": [
    {
     "name": "stdout",
     "output_type": "stream",
     "text": [
      "NEGATIVE\n"
     ]
    }
   ],
   "source": [
    "for item in dataset:\n",
    "    print(item[\"huggingFace_label\"])\n",
    "    break"
   ]
  },
  {
   "cell_type": "code",
   "execution_count": null,
   "metadata": {},
   "outputs": [],
   "source": []
  }
 ],
 "metadata": {
  "kernelspec": {
   "display_name": "Python 3.9.13 ('base')",
   "language": "python",
   "name": "python3"
  },
  "language_info": {
   "codemirror_mode": {
    "name": "ipython",
    "version": 3
   },
   "file_extension": ".py",
   "mimetype": "text/x-python",
   "name": "python",
   "nbconvert_exporter": "python",
   "pygments_lexer": "ipython3",
   "version": "3.9.13"
  },
  "orig_nbformat": 4,
  "vscode": {
   "interpreter": {
    "hash": "d4d1e4263499bec80672ea0156c357c1ee493ec2b1c70f0acce89fc37c4a6abe"
   }
  }
 },
 "nbformat": 4,
 "nbformat_minor": 2
}
